{
  "cells": [
    {
      "cell_type": "markdown",
      "metadata": {
        "id": "view-in-github",
        "colab_type": "text"
      },
      "source": [
        "<a href=\"https://colab.research.google.com/github/RenataKostolina/Machine_learning/blob/main/logistic_regression_pca.ipynb\" target=\"_parent\"><img src=\"https://colab.research.google.com/assets/colab-badge.svg\" alt=\"Open In Colab\"/></a>"
      ]
    },
    {
      "cell_type": "markdown",
      "metadata": {
        "nbgrader": {
          "grade": false,
          "grade_id": "cell-86e0de040aac317a",
          "locked": true,
          "schema_version": 2,
          "solution": false
        },
        "id": "P8fIX_Up9yQo"
      },
      "source": [
        "# Lab assignment №1, part 2\n",
        "\n",
        "This lab assignment consists of several parts. You are supposed to make some transformations, train some models, estimate the quality of the models and explain your results.\n",
        "\n",
        "Several comments:\n",
        "* Don't hesitate to ask questions, it's a good practice.\n",
        "* No private/public sharing, please. The copied assignments will be graded with 0 points.\n",
        "* Blocks of this lab will be graded separately."
      ]
    },
    {
      "cell_type": "markdown",
      "metadata": {
        "id": "MwIo0sgg9yQs"
      },
      "source": [
        "__*This is the second part of the assignment. First and third parts are waiting for you in the same directory.*__"
      ]
    },
    {
      "cell_type": "markdown",
      "metadata": {
        "nbgrader": {
          "grade": false,
          "grade_id": "cell-512ba712fc0fc065",
          "locked": true,
          "schema_version": 2,
          "solution": false
        },
        "id": "MU-p69Lc9yQs"
      },
      "source": [
        "## Part 2. Data preprocessing, model training and evaluation."
      ]
    },
    {
      "cell_type": "markdown",
      "metadata": {
        "nbgrader": {
          "grade": false,
          "grade_id": "cell-b656a4266174b009",
          "locked": true,
          "schema_version": 2,
          "solution": false
        },
        "id": "9f3PXkl_9yQt"
      },
      "source": [
        "### 1. Reading the data\n",
        "Today we work with the [dataset](https://archive.ics.uci.edu/ml/datasets/Statlog+%28Vehicle+Silhouettes%29), describing different cars for multiclass ($k=4$) classification problem. The data is available below."
      ]
    },
    {
      "cell_type": "code",
      "execution_count": null,
      "metadata": {
        "colab": {
          "base_uri": "https://localhost:8080/"
        },
        "id": "8zfjcKcX9yQt",
        "outputId": "a1344dea-5d4a-4c0c-832f-989f9cc2edb9",
        "collapsed": true
      },
      "outputs": [
        {
          "output_type": "stream",
          "name": "stdout",
          "text": [
            "Collecting ucimlrepo\n",
            "  Downloading ucimlrepo-0.0.7-py3-none-any.whl.metadata (5.5 kB)\n",
            "Requirement already satisfied: pandas>=1.0.0 in /usr/local/lib/python3.10/dist-packages (from ucimlrepo) (2.2.2)\n",
            "Requirement already satisfied: certifi>=2020.12.5 in /usr/local/lib/python3.10/dist-packages (from ucimlrepo) (2024.8.30)\n",
            "Requirement already satisfied: numpy>=1.22.4 in /usr/local/lib/python3.10/dist-packages (from pandas>=1.0.0->ucimlrepo) (1.26.4)\n",
            "Requirement already satisfied: python-dateutil>=2.8.2 in /usr/local/lib/python3.10/dist-packages (from pandas>=1.0.0->ucimlrepo) (2.8.2)\n",
            "Requirement already satisfied: pytz>=2020.1 in /usr/local/lib/python3.10/dist-packages (from pandas>=1.0.0->ucimlrepo) (2024.2)\n",
            "Requirement already satisfied: tzdata>=2022.7 in /usr/local/lib/python3.10/dist-packages (from pandas>=1.0.0->ucimlrepo) (2024.2)\n",
            "Requirement already satisfied: six>=1.5 in /usr/local/lib/python3.10/dist-packages (from python-dateutil>=2.8.2->pandas>=1.0.0->ucimlrepo) (1.16.0)\n",
            "Downloading ucimlrepo-0.0.7-py3-none-any.whl (8.0 kB)\n",
            "Installing collected packages: ucimlrepo\n",
            "Successfully installed ucimlrepo-0.0.7\n"
          ]
        }
      ],
      "source": [
        "!pip install ucimlrepo"
      ]
    },
    {
      "cell_type": "code",
      "execution_count": null,
      "metadata": {
        "id": "lPymH-LB9yQu"
      },
      "outputs": [],
      "source": [
        "import ucimlrepo as uci\n",
        "import numpy as np\n",
        "import pandas as pd\n",
        "from sklearn.model_selection import train_test_split"
      ]
    },
    {
      "cell_type": "code",
      "execution_count": null,
      "metadata": {
        "nbgrader": {
          "grade": false,
          "grade_id": "cell-eebac6bfdf73d0bc",
          "locked": true,
          "schema_version": 2,
          "solution": false
        },
        "colab": {
          "base_uri": "https://localhost:8080/"
        },
        "id": "Nm0n5DEq9yQv",
        "outputId": "485ab683-b5f1-4892-dc4a-75e010fd7335",
        "collapsed": true
      },
      "outputs": [
        {
          "output_type": "stream",
          "name": "stdout",
          "text": [
            "Statlog (Vehicle Silhouettes) \n",
            "\n",
            "3D objects within a 2D image by application of an ensemble of shape feature extractors to the 2D silhouettes of the objects. \n",
            "\n",
            "The purpose is to classify a given silhouette as one of four types of vehicle, using  a set of features extracted from the silhouette. The vehicle may be viewed from one of many different angles.  \r\n",
            "\r\n",
            "HISTORY:\r\n",
            "\r\n",
            "This data was originally gathered at the TI in 1986-87 by JP Siebert. It was partially financed by Barr and Stroud Ltd. The original purpose was to find a method of distinguishing 3D objects within a 2D image by application of an ensemble of shape feature extractors to the 2D silhouettes of the objects. Measures of shape features extracted from example silhouettes of objects to be discriminated were used to generate a classification rule tree by means of computer induction.\r\n",
            "\r\n",
            "This object recognition strategy was successfully used to discriminate between silhouettes of model cars, vans and buses viewed from constrained elevation but all angles of rotation.\r\n",
            "\r\n",
            "The rule tree classification performance compared favourably to MDC (Minimum Distance Classifier) and k-NN (k-Nearest Neighbour) statistical classifiers in terms of both error rate and computational efficiency. An investigation of these rule trees generated by example indicated that the tree structure was heavily influenced by the orientation of the objects, and grouped similar object views into single decisions.\r\n",
            "\r\n",
            "\r\n",
            "DESCRIPTION:\r\n",
            "\r\n",
            "The features were extracted from the silhouettes by the HIPS (Hierarchical Image Processing System) extension BINATTS, which extracts a combination of scale independent features utilising both classical moments based measures such as scaled variance, skewness and kurtosis about the major/minor axes and heuristic measures such as hollows, circularity, rectangularity and compactness.\r\n",
            "\r\n",
            "Four \"Corgie\" model vehicles were used for the experiment: a double decker bus, Cheverolet van, Saab 9000 and an Opel Manta 400. This particular combination of vehicles was chosen with the expectation that the bus, van and either one of the cars would be readily distinguishable, but it would be more difficult to distinguish between the cars.\r\n",
            "\r\n",
            "The images were acquired by a camera looking downwards at the model vehicle from a fixed angle of elevation (34.2 degrees to the horizontal). The vehicles were placed on a diffuse backlit surface (lightbox). The vehicles were painted matte black to minimise highlights. The images were captured using a CRS4000 framestore connected to a vax 750. All images were captured with a spatial resolution of 128x128 pixels quantised to 64 greylevels. These images were thresholded to produce binary vehicle silhouettes, negated (to comply with the processing requirements of BINATTS) and thereafter subjected to shrink-expand-expand-shrink HIPS modules to remove \"salt and pepper\" image noise.\r\n",
            "\r\n",
            "The vehicles were rotated and their angle of orientation was measured using a radial graticule beneath the vehicle. 0 and 180 degrees corresponded to \"head on\" and \"rear\" views respectively while 90 and 270 corresponded to profiles in opposite directions. Two sets of 60 images, each set covering a full 360 degree rotation, were captured for each vehicle. The vehicle was rotated by a fixed angle between images. These datasets are known as e2 and e3 respectively.\r\n",
            "\r\n",
            " A further two sets of images, e4 and e5, were captured with the camera at elevations of 37.5 degs and 30.8 degs respectively. These sets also contain 60 images per vehicle apart from e4.van which contains only 46 owing to the difficulty of containing the van in the image at some orientations.\r\n",
            " \n",
            "\n"
          ]
        }
      ],
      "source": [
        "dataset = uci.fetch_ucirepo(id=149)\n",
        "\n",
        "print(dataset.metadata.name, '\\n')\n",
        "print(dataset.metadata.abstract, '\\n')\n",
        "print(dataset.metadata.additional_info.summary, '\\n')"
      ]
    },
    {
      "cell_type": "code",
      "execution_count": null,
      "metadata": {
        "nbgrader": {
          "grade": false,
          "grade_id": "cell-eebac6bfdf73d0bc",
          "locked": true,
          "schema_version": 2,
          "solution": false
        },
        "colab": {
          "base_uri": "https://localhost:8080/"
        },
        "id": "Zfi7QZrC9yQw",
        "outputId": "4e8b5e28-797d-497d-f407-435bc3432239"
      },
      "outputs": [
        {
          "output_type": "stream",
          "name": "stdout",
          "text": [
            "(846, 18) (846, 1)\n",
            "(549, 18) (549, 1) (297, 18) (297, 1)\n"
          ]
        },
        {
          "output_type": "stream",
          "name": "stderr",
          "text": [
            "<ipython-input-4-06cb1bad1e0a>:6: SettingWithCopyWarning: \n",
            "A value is trying to be set on a copy of a slice from a DataFrame\n",
            "\n",
            "See the caveats in the documentation: https://pandas.pydata.org/pandas-docs/stable/user_guide/indexing.html#returning-a-view-versus-a-copy\n",
            "  target.loc[target['class']=='204', 'class'] = 'saab'\n"
          ]
        }
      ],
      "source": [
        "data = dataset.data.features\n",
        "target = dataset.data.targets\n",
        "\n",
        "print(data.shape, target.shape)\n",
        "data.loc[data['COMPACTNESS'].isna(), 'COMPACTNESS'] = 94.0\n",
        "target.loc[target['class']=='204', 'class'] = 'saab'\n",
        "\n",
        "X_train, X_test, y_train, y_test = train_test_split(data, target, test_size=0.35, random_state=42)\n",
        "print(X_train.shape, y_train.shape, X_test.shape, y_test.shape)"
      ]
    },
    {
      "cell_type": "markdown",
      "metadata": {
        "nbgrader": {
          "grade": false,
          "grade_id": "cell-88b1a0f688568f2c",
          "locked": true,
          "schema_version": 2,
          "solution": false
        },
        "id": "anN2oL_p9yQw"
      },
      "source": [
        "To get some insights about the dataset, `pandas` might be used. The `train` part is transformed to `pd.DataFrame` below."
      ]
    },
    {
      "cell_type": "code",
      "execution_count": null,
      "metadata": {
        "colab": {
          "base_uri": "https://localhost:8080/",
          "height": 609
        },
        "id": "UwJVjBSN9yQx",
        "outputId": "ed0b2346-50e8-4915-d4bc-d27d00ca6ee2",
        "collapsed": true
      },
      "outputs": [
        {
          "output_type": "execute_result",
          "data": {
            "text/plain": [
              "     COMPACTNESS  CIRCULARITY  DISTANCE CIRCULARITY  RADIUS RATIO  \\\n",
              "822         95.0           41                    82           170   \n",
              "486        104.0           57                   103           222   \n",
              "182         91.0           42                    66           169   \n",
              "375        109.0           52                    95           189   \n",
              "528         95.0           47                    73           195   \n",
              "223         81.0           44                    72           139   \n",
              "840         93.0           34                    66           140   \n",
              "593         89.0           43                    77           147   \n",
              "346        117.0           52                   110           228   \n",
              "357        109.0           49                   109           193   \n",
              "482         94.0           46                    79           181   \n",
              "522         89.0           36                    69           162   \n",
              "176         84.0           39                    90           180   \n",
              "680         95.0           46                    76           162   \n",
              "393         86.0           47                    75           165   \n",
              "\n",
              "     PR.AXIS ASPECT RATIO  MAX.LENGTH ASPECT RATIO  SCATTER RATIO  \\\n",
              "822                    65                        9            145   \n",
              "486                    72                       12            221   \n",
              "182                    66                        7            145   \n",
              "375                    58                        4            227   \n",
              "528                    70                        7            167   \n",
              "223                    60                        6            153   \n",
              "840                    56                        7            130   \n",
              "593                    54                        8            144   \n",
              "346                    65                       12            212   \n",
              "357                    59                       10            207   \n",
              "482                    62                        8            167   \n",
              "522                    63                        6            140   \n",
              "176                    60                        7            177   \n",
              "680                    66                       11            162   \n",
              "393                    68                        6            154   \n",
              "\n",
              "     ELONGATEDNESS  PR.AXIS RECTANGULARITY  MAX.LENGTH RECTANGULARITY  \\\n",
              "822             46                      19                        145   \n",
              "486             30                      25                        177   \n",
              "182             44                      19                        140   \n",
              "375             29                      25                        158   \n",
              "528             38                      20                        152   \n",
              "223             44                      19                        146   \n",
              "840             51                      18                        120   \n",
              "593             46                      19                        146   \n",
              "346             31                      24                        163   \n",
              "357             32                      24                        156   \n",
              "482             40                      20                        148   \n",
              "522             48                      18                        131   \n",
              "176             37                      21                        131   \n",
              "680             42                      20                        155   \n",
              "393             43                      19                        146   \n",
              "\n",
              "     SCALED VARIANCE ALONG MAJOR AXIS  SCALED VARIANCE ALONG MINOR AXIS  \\\n",
              "822                               163                               314   \n",
              "486                               223                               718   \n",
              "182                               169                               325   \n",
              "375                               262                               776   \n",
              "528                               184                               430   \n",
              "223                               180                               347   \n",
              "840                               151                               251   \n",
              "593                               163                               308   \n",
              "346                               228                               668   \n",
              "357                               225                               635   \n",
              "482                               190                               418   \n",
              "522                               164                               291   \n",
              "176                               209                               469   \n",
              "680                               175                               381   \n",
              "393                               176                               356   \n",
              "\n",
              "     SCALED RADIUS OF GYRATION  SKEWNESS ABOUT MAJOR AXIS  \\\n",
              "822                        140                         64   \n",
              "486                        218                         72   \n",
              "182                        159                         67   \n",
              "375                        217                         82   \n",
              "528                        185                         69   \n",
              "223                        178                         81   \n",
              "840                        114                         62   \n",
              "593                        174                         64   \n",
              "346                        220                         66   \n",
              "357                        213                         70   \n",
              "482                        193                         67   \n",
              "522                        126                         66   \n",
              "176                        145                         71   \n",
              "680                        172                         74   \n",
              "393                        190                         74   \n",
              "\n",
              "     SKEWNESS ABOUT MINOR AXIS  KURTOSIS ABOUT MINOR AXIS  \\\n",
              "822                          4                          8   \n",
              "486                         11                         12   \n",
              "182                          4                          0   \n",
              "375                          0                         19   \n",
              "528                          9                         19   \n",
              "223                          1                         15   \n",
              "840                          5                         29   \n",
              "593                         13                          5   \n",
              "346                         21                         25   \n",
              "357                         13                         31   \n",
              "482                         12                         15   \n",
              "522                          1                         38   \n",
              "176                          4                         38   \n",
              "680                          8                          4   \n",
              "393                          7                          3   \n",
              "\n",
              "     KURTOSIS ABOUT MAJOR AXIS  HOLLOWS RATIO  \n",
              "822                        199            207  \n",
              "486                        186            195  \n",
              "182                        201            207  \n",
              "375                        187            186  \n",
              "528                        200            206  \n",
              "223                        182            186  \n",
              "840                        201            207  \n",
              "593                        194            201  \n",
              "346                        194            205  \n",
              "357                        191            202  \n",
              "482                        191            198  \n",
              "522                        193            204  \n",
              "176                        190            198  \n",
              "680                        184            193  \n",
              "393                        188            194  "
            ],
            "text/html": [
              "\n",
              "  <div id=\"df-5a19687b-315c-47d7-bab3-a50b938527b0\" class=\"colab-df-container\">\n",
              "    <div>\n",
              "<style scoped>\n",
              "    .dataframe tbody tr th:only-of-type {\n",
              "        vertical-align: middle;\n",
              "    }\n",
              "\n",
              "    .dataframe tbody tr th {\n",
              "        vertical-align: top;\n",
              "    }\n",
              "\n",
              "    .dataframe thead th {\n",
              "        text-align: right;\n",
              "    }\n",
              "</style>\n",
              "<table border=\"1\" class=\"dataframe\">\n",
              "  <thead>\n",
              "    <tr style=\"text-align: right;\">\n",
              "      <th></th>\n",
              "      <th>COMPACTNESS</th>\n",
              "      <th>CIRCULARITY</th>\n",
              "      <th>DISTANCE CIRCULARITY</th>\n",
              "      <th>RADIUS RATIO</th>\n",
              "      <th>PR.AXIS ASPECT RATIO</th>\n",
              "      <th>MAX.LENGTH ASPECT RATIO</th>\n",
              "      <th>SCATTER RATIO</th>\n",
              "      <th>ELONGATEDNESS</th>\n",
              "      <th>PR.AXIS RECTANGULARITY</th>\n",
              "      <th>MAX.LENGTH RECTANGULARITY</th>\n",
              "      <th>SCALED VARIANCE ALONG MAJOR AXIS</th>\n",
              "      <th>SCALED VARIANCE ALONG MINOR AXIS</th>\n",
              "      <th>SCALED RADIUS OF GYRATION</th>\n",
              "      <th>SKEWNESS ABOUT MAJOR AXIS</th>\n",
              "      <th>SKEWNESS ABOUT MINOR AXIS</th>\n",
              "      <th>KURTOSIS ABOUT MINOR AXIS</th>\n",
              "      <th>KURTOSIS ABOUT MAJOR AXIS</th>\n",
              "      <th>HOLLOWS RATIO</th>\n",
              "    </tr>\n",
              "  </thead>\n",
              "  <tbody>\n",
              "    <tr>\n",
              "      <th>822</th>\n",
              "      <td>95.0</td>\n",
              "      <td>41</td>\n",
              "      <td>82</td>\n",
              "      <td>170</td>\n",
              "      <td>65</td>\n",
              "      <td>9</td>\n",
              "      <td>145</td>\n",
              "      <td>46</td>\n",
              "      <td>19</td>\n",
              "      <td>145</td>\n",
              "      <td>163</td>\n",
              "      <td>314</td>\n",
              "      <td>140</td>\n",
              "      <td>64</td>\n",
              "      <td>4</td>\n",
              "      <td>8</td>\n",
              "      <td>199</td>\n",
              "      <td>207</td>\n",
              "    </tr>\n",
              "    <tr>\n",
              "      <th>486</th>\n",
              "      <td>104.0</td>\n",
              "      <td>57</td>\n",
              "      <td>103</td>\n",
              "      <td>222</td>\n",
              "      <td>72</td>\n",
              "      <td>12</td>\n",
              "      <td>221</td>\n",
              "      <td>30</td>\n",
              "      <td>25</td>\n",
              "      <td>177</td>\n",
              "      <td>223</td>\n",
              "      <td>718</td>\n",
              "      <td>218</td>\n",
              "      <td>72</td>\n",
              "      <td>11</td>\n",
              "      <td>12</td>\n",
              "      <td>186</td>\n",
              "      <td>195</td>\n",
              "    </tr>\n",
              "    <tr>\n",
              "      <th>182</th>\n",
              "      <td>91.0</td>\n",
              "      <td>42</td>\n",
              "      <td>66</td>\n",
              "      <td>169</td>\n",
              "      <td>66</td>\n",
              "      <td>7</td>\n",
              "      <td>145</td>\n",
              "      <td>44</td>\n",
              "      <td>19</td>\n",
              "      <td>140</td>\n",
              "      <td>169</td>\n",
              "      <td>325</td>\n",
              "      <td>159</td>\n",
              "      <td>67</td>\n",
              "      <td>4</td>\n",
              "      <td>0</td>\n",
              "      <td>201</td>\n",
              "      <td>207</td>\n",
              "    </tr>\n",
              "    <tr>\n",
              "      <th>375</th>\n",
              "      <td>109.0</td>\n",
              "      <td>52</td>\n",
              "      <td>95</td>\n",
              "      <td>189</td>\n",
              "      <td>58</td>\n",
              "      <td>4</td>\n",
              "      <td>227</td>\n",
              "      <td>29</td>\n",
              "      <td>25</td>\n",
              "      <td>158</td>\n",
              "      <td>262</td>\n",
              "      <td>776</td>\n",
              "      <td>217</td>\n",
              "      <td>82</td>\n",
              "      <td>0</td>\n",
              "      <td>19</td>\n",
              "      <td>187</td>\n",
              "      <td>186</td>\n",
              "    </tr>\n",
              "    <tr>\n",
              "      <th>528</th>\n",
              "      <td>95.0</td>\n",
              "      <td>47</td>\n",
              "      <td>73</td>\n",
              "      <td>195</td>\n",
              "      <td>70</td>\n",
              "      <td>7</td>\n",
              "      <td>167</td>\n",
              "      <td>38</td>\n",
              "      <td>20</td>\n",
              "      <td>152</td>\n",
              "      <td>184</td>\n",
              "      <td>430</td>\n",
              "      <td>185</td>\n",
              "      <td>69</td>\n",
              "      <td>9</td>\n",
              "      <td>19</td>\n",
              "      <td>200</td>\n",
              "      <td>206</td>\n",
              "    </tr>\n",
              "    <tr>\n",
              "      <th>223</th>\n",
              "      <td>81.0</td>\n",
              "      <td>44</td>\n",
              "      <td>72</td>\n",
              "      <td>139</td>\n",
              "      <td>60</td>\n",
              "      <td>6</td>\n",
              "      <td>153</td>\n",
              "      <td>44</td>\n",
              "      <td>19</td>\n",
              "      <td>146</td>\n",
              "      <td>180</td>\n",
              "      <td>347</td>\n",
              "      <td>178</td>\n",
              "      <td>81</td>\n",
              "      <td>1</td>\n",
              "      <td>15</td>\n",
              "      <td>182</td>\n",
              "      <td>186</td>\n",
              "    </tr>\n",
              "    <tr>\n",
              "      <th>840</th>\n",
              "      <td>93.0</td>\n",
              "      <td>34</td>\n",
              "      <td>66</td>\n",
              "      <td>140</td>\n",
              "      <td>56</td>\n",
              "      <td>7</td>\n",
              "      <td>130</td>\n",
              "      <td>51</td>\n",
              "      <td>18</td>\n",
              "      <td>120</td>\n",
              "      <td>151</td>\n",
              "      <td>251</td>\n",
              "      <td>114</td>\n",
              "      <td>62</td>\n",
              "      <td>5</td>\n",
              "      <td>29</td>\n",
              "      <td>201</td>\n",
              "      <td>207</td>\n",
              "    </tr>\n",
              "    <tr>\n",
              "      <th>593</th>\n",
              "      <td>89.0</td>\n",
              "      <td>43</td>\n",
              "      <td>77</td>\n",
              "      <td>147</td>\n",
              "      <td>54</td>\n",
              "      <td>8</td>\n",
              "      <td>144</td>\n",
              "      <td>46</td>\n",
              "      <td>19</td>\n",
              "      <td>146</td>\n",
              "      <td>163</td>\n",
              "      <td>308</td>\n",
              "      <td>174</td>\n",
              "      <td>64</td>\n",
              "      <td>13</td>\n",
              "      <td>5</td>\n",
              "      <td>194</td>\n",
              "      <td>201</td>\n",
              "    </tr>\n",
              "    <tr>\n",
              "      <th>346</th>\n",
              "      <td>117.0</td>\n",
              "      <td>52</td>\n",
              "      <td>110</td>\n",
              "      <td>228</td>\n",
              "      <td>65</td>\n",
              "      <td>12</td>\n",
              "      <td>212</td>\n",
              "      <td>31</td>\n",
              "      <td>24</td>\n",
              "      <td>163</td>\n",
              "      <td>228</td>\n",
              "      <td>668</td>\n",
              "      <td>220</td>\n",
              "      <td>66</td>\n",
              "      <td>21</td>\n",
              "      <td>25</td>\n",
              "      <td>194</td>\n",
              "      <td>205</td>\n",
              "    </tr>\n",
              "    <tr>\n",
              "      <th>357</th>\n",
              "      <td>109.0</td>\n",
              "      <td>49</td>\n",
              "      <td>109</td>\n",
              "      <td>193</td>\n",
              "      <td>59</td>\n",
              "      <td>10</td>\n",
              "      <td>207</td>\n",
              "      <td>32</td>\n",
              "      <td>24</td>\n",
              "      <td>156</td>\n",
              "      <td>225</td>\n",
              "      <td>635</td>\n",
              "      <td>213</td>\n",
              "      <td>70</td>\n",
              "      <td>13</td>\n",
              "      <td>31</td>\n",
              "      <td>191</td>\n",
              "      <td>202</td>\n",
              "    </tr>\n",
              "    <tr>\n",
              "      <th>482</th>\n",
              "      <td>94.0</td>\n",
              "      <td>46</td>\n",
              "      <td>79</td>\n",
              "      <td>181</td>\n",
              "      <td>62</td>\n",
              "      <td>8</td>\n",
              "      <td>167</td>\n",
              "      <td>40</td>\n",
              "      <td>20</td>\n",
              "      <td>148</td>\n",
              "      <td>190</td>\n",
              "      <td>418</td>\n",
              "      <td>193</td>\n",
              "      <td>67</td>\n",
              "      <td>12</td>\n",
              "      <td>15</td>\n",
              "      <td>191</td>\n",
              "      <td>198</td>\n",
              "    </tr>\n",
              "    <tr>\n",
              "      <th>522</th>\n",
              "      <td>89.0</td>\n",
              "      <td>36</td>\n",
              "      <td>69</td>\n",
              "      <td>162</td>\n",
              "      <td>63</td>\n",
              "      <td>6</td>\n",
              "      <td>140</td>\n",
              "      <td>48</td>\n",
              "      <td>18</td>\n",
              "      <td>131</td>\n",
              "      <td>164</td>\n",
              "      <td>291</td>\n",
              "      <td>126</td>\n",
              "      <td>66</td>\n",
              "      <td>1</td>\n",
              "      <td>38</td>\n",
              "      <td>193</td>\n",
              "      <td>204</td>\n",
              "    </tr>\n",
              "    <tr>\n",
              "      <th>176</th>\n",
              "      <td>84.0</td>\n",
              "      <td>39</td>\n",
              "      <td>90</td>\n",
              "      <td>180</td>\n",
              "      <td>60</td>\n",
              "      <td>7</td>\n",
              "      <td>177</td>\n",
              "      <td>37</td>\n",
              "      <td>21</td>\n",
              "      <td>131</td>\n",
              "      <td>209</td>\n",
              "      <td>469</td>\n",
              "      <td>145</td>\n",
              "      <td>71</td>\n",
              "      <td>4</td>\n",
              "      <td>38</td>\n",
              "      <td>190</td>\n",
              "      <td>198</td>\n",
              "    </tr>\n",
              "    <tr>\n",
              "      <th>680</th>\n",
              "      <td>95.0</td>\n",
              "      <td>46</td>\n",
              "      <td>76</td>\n",
              "      <td>162</td>\n",
              "      <td>66</td>\n",
              "      <td>11</td>\n",
              "      <td>162</td>\n",
              "      <td>42</td>\n",
              "      <td>20</td>\n",
              "      <td>155</td>\n",
              "      <td>175</td>\n",
              "      <td>381</td>\n",
              "      <td>172</td>\n",
              "      <td>74</td>\n",
              "      <td>8</td>\n",
              "      <td>4</td>\n",
              "      <td>184</td>\n",
              "      <td>193</td>\n",
              "    </tr>\n",
              "    <tr>\n",
              "      <th>393</th>\n",
              "      <td>86.0</td>\n",
              "      <td>47</td>\n",
              "      <td>75</td>\n",
              "      <td>165</td>\n",
              "      <td>68</td>\n",
              "      <td>6</td>\n",
              "      <td>154</td>\n",
              "      <td>43</td>\n",
              "      <td>19</td>\n",
              "      <td>146</td>\n",
              "      <td>176</td>\n",
              "      <td>356</td>\n",
              "      <td>190</td>\n",
              "      <td>74</td>\n",
              "      <td>7</td>\n",
              "      <td>3</td>\n",
              "      <td>188</td>\n",
              "      <td>194</td>\n",
              "    </tr>\n",
              "  </tbody>\n",
              "</table>\n",
              "</div>\n",
              "    <div class=\"colab-df-buttons\">\n",
              "\n",
              "  <div class=\"colab-df-container\">\n",
              "    <button class=\"colab-df-convert\" onclick=\"convertToInteractive('df-5a19687b-315c-47d7-bab3-a50b938527b0')\"\n",
              "            title=\"Convert this dataframe to an interactive table.\"\n",
              "            style=\"display:none;\">\n",
              "\n",
              "  <svg xmlns=\"http://www.w3.org/2000/svg\" height=\"24px\" viewBox=\"0 -960 960 960\">\n",
              "    <path d=\"M120-120v-720h720v720H120Zm60-500h600v-160H180v160Zm220 220h160v-160H400v160Zm0 220h160v-160H400v160ZM180-400h160v-160H180v160Zm440 0h160v-160H620v160ZM180-180h160v-160H180v160Zm440 0h160v-160H620v160Z\"/>\n",
              "  </svg>\n",
              "    </button>\n",
              "\n",
              "  <style>\n",
              "    .colab-df-container {\n",
              "      display:flex;\n",
              "      gap: 12px;\n",
              "    }\n",
              "\n",
              "    .colab-df-convert {\n",
              "      background-color: #E8F0FE;\n",
              "      border: none;\n",
              "      border-radius: 50%;\n",
              "      cursor: pointer;\n",
              "      display: none;\n",
              "      fill: #1967D2;\n",
              "      height: 32px;\n",
              "      padding: 0 0 0 0;\n",
              "      width: 32px;\n",
              "    }\n",
              "\n",
              "    .colab-df-convert:hover {\n",
              "      background-color: #E2EBFA;\n",
              "      box-shadow: 0px 1px 2px rgba(60, 64, 67, 0.3), 0px 1px 3px 1px rgba(60, 64, 67, 0.15);\n",
              "      fill: #174EA6;\n",
              "    }\n",
              "\n",
              "    .colab-df-buttons div {\n",
              "      margin-bottom: 4px;\n",
              "    }\n",
              "\n",
              "    [theme=dark] .colab-df-convert {\n",
              "      background-color: #3B4455;\n",
              "      fill: #D2E3FC;\n",
              "    }\n",
              "\n",
              "    [theme=dark] .colab-df-convert:hover {\n",
              "      background-color: #434B5C;\n",
              "      box-shadow: 0px 1px 3px 1px rgba(0, 0, 0, 0.15);\n",
              "      filter: drop-shadow(0px 1px 2px rgba(0, 0, 0, 0.3));\n",
              "      fill: #FFFFFF;\n",
              "    }\n",
              "  </style>\n",
              "\n",
              "    <script>\n",
              "      const buttonEl =\n",
              "        document.querySelector('#df-5a19687b-315c-47d7-bab3-a50b938527b0 button.colab-df-convert');\n",
              "      buttonEl.style.display =\n",
              "        google.colab.kernel.accessAllowed ? 'block' : 'none';\n",
              "\n",
              "      async function convertToInteractive(key) {\n",
              "        const element = document.querySelector('#df-5a19687b-315c-47d7-bab3-a50b938527b0');\n",
              "        const dataTable =\n",
              "          await google.colab.kernel.invokeFunction('convertToInteractive',\n",
              "                                                    [key], {});\n",
              "        if (!dataTable) return;\n",
              "\n",
              "        const docLinkHtml = 'Like what you see? Visit the ' +\n",
              "          '<a target=\"_blank\" href=https://colab.research.google.com/notebooks/data_table.ipynb>data table notebook</a>'\n",
              "          + ' to learn more about interactive tables.';\n",
              "        element.innerHTML = '';\n",
              "        dataTable['output_type'] = 'display_data';\n",
              "        await google.colab.output.renderOutput(dataTable, element);\n",
              "        const docLink = document.createElement('div');\n",
              "        docLink.innerHTML = docLinkHtml;\n",
              "        element.appendChild(docLink);\n",
              "      }\n",
              "    </script>\n",
              "  </div>\n",
              "\n",
              "\n",
              "<div id=\"df-f91d9560-aa8b-453e-b7b7-b337db974d3f\">\n",
              "  <button class=\"colab-df-quickchart\" onclick=\"quickchart('df-f91d9560-aa8b-453e-b7b7-b337db974d3f')\"\n",
              "            title=\"Suggest charts\"\n",
              "            style=\"display:none;\">\n",
              "\n",
              "<svg xmlns=\"http://www.w3.org/2000/svg\" height=\"24px\"viewBox=\"0 0 24 24\"\n",
              "     width=\"24px\">\n",
              "    <g>\n",
              "        <path d=\"M19 3H5c-1.1 0-2 .9-2 2v14c0 1.1.9 2 2 2h14c1.1 0 2-.9 2-2V5c0-1.1-.9-2-2-2zM9 17H7v-7h2v7zm4 0h-2V7h2v10zm4 0h-2v-4h2v4z\"/>\n",
              "    </g>\n",
              "</svg>\n",
              "  </button>\n",
              "\n",
              "<style>\n",
              "  .colab-df-quickchart {\n",
              "      --bg-color: #E8F0FE;\n",
              "      --fill-color: #1967D2;\n",
              "      --hover-bg-color: #E2EBFA;\n",
              "      --hover-fill-color: #174EA6;\n",
              "      --disabled-fill-color: #AAA;\n",
              "      --disabled-bg-color: #DDD;\n",
              "  }\n",
              "\n",
              "  [theme=dark] .colab-df-quickchart {\n",
              "      --bg-color: #3B4455;\n",
              "      --fill-color: #D2E3FC;\n",
              "      --hover-bg-color: #434B5C;\n",
              "      --hover-fill-color: #FFFFFF;\n",
              "      --disabled-bg-color: #3B4455;\n",
              "      --disabled-fill-color: #666;\n",
              "  }\n",
              "\n",
              "  .colab-df-quickchart {\n",
              "    background-color: var(--bg-color);\n",
              "    border: none;\n",
              "    border-radius: 50%;\n",
              "    cursor: pointer;\n",
              "    display: none;\n",
              "    fill: var(--fill-color);\n",
              "    height: 32px;\n",
              "    padding: 0;\n",
              "    width: 32px;\n",
              "  }\n",
              "\n",
              "  .colab-df-quickchart:hover {\n",
              "    background-color: var(--hover-bg-color);\n",
              "    box-shadow: 0 1px 2px rgba(60, 64, 67, 0.3), 0 1px 3px 1px rgba(60, 64, 67, 0.15);\n",
              "    fill: var(--button-hover-fill-color);\n",
              "  }\n",
              "\n",
              "  .colab-df-quickchart-complete:disabled,\n",
              "  .colab-df-quickchart-complete:disabled:hover {\n",
              "    background-color: var(--disabled-bg-color);\n",
              "    fill: var(--disabled-fill-color);\n",
              "    box-shadow: none;\n",
              "  }\n",
              "\n",
              "  .colab-df-spinner {\n",
              "    border: 2px solid var(--fill-color);\n",
              "    border-color: transparent;\n",
              "    border-bottom-color: var(--fill-color);\n",
              "    animation:\n",
              "      spin 1s steps(1) infinite;\n",
              "  }\n",
              "\n",
              "  @keyframes spin {\n",
              "    0% {\n",
              "      border-color: transparent;\n",
              "      border-bottom-color: var(--fill-color);\n",
              "      border-left-color: var(--fill-color);\n",
              "    }\n",
              "    20% {\n",
              "      border-color: transparent;\n",
              "      border-left-color: var(--fill-color);\n",
              "      border-top-color: var(--fill-color);\n",
              "    }\n",
              "    30% {\n",
              "      border-color: transparent;\n",
              "      border-left-color: var(--fill-color);\n",
              "      border-top-color: var(--fill-color);\n",
              "      border-right-color: var(--fill-color);\n",
              "    }\n",
              "    40% {\n",
              "      border-color: transparent;\n",
              "      border-right-color: var(--fill-color);\n",
              "      border-top-color: var(--fill-color);\n",
              "    }\n",
              "    60% {\n",
              "      border-color: transparent;\n",
              "      border-right-color: var(--fill-color);\n",
              "    }\n",
              "    80% {\n",
              "      border-color: transparent;\n",
              "      border-right-color: var(--fill-color);\n",
              "      border-bottom-color: var(--fill-color);\n",
              "    }\n",
              "    90% {\n",
              "      border-color: transparent;\n",
              "      border-bottom-color: var(--fill-color);\n",
              "    }\n",
              "  }\n",
              "</style>\n",
              "\n",
              "  <script>\n",
              "    async function quickchart(key) {\n",
              "      const quickchartButtonEl =\n",
              "        document.querySelector('#' + key + ' button');\n",
              "      quickchartButtonEl.disabled = true;  // To prevent multiple clicks.\n",
              "      quickchartButtonEl.classList.add('colab-df-spinner');\n",
              "      try {\n",
              "        const charts = await google.colab.kernel.invokeFunction(\n",
              "            'suggestCharts', [key], {});\n",
              "      } catch (error) {\n",
              "        console.error('Error during call to suggestCharts:', error);\n",
              "      }\n",
              "      quickchartButtonEl.classList.remove('colab-df-spinner');\n",
              "      quickchartButtonEl.classList.add('colab-df-quickchart-complete');\n",
              "    }\n",
              "    (() => {\n",
              "      let quickchartButtonEl =\n",
              "        document.querySelector('#df-f91d9560-aa8b-453e-b7b7-b337db974d3f button');\n",
              "      quickchartButtonEl.style.display =\n",
              "        google.colab.kernel.accessAllowed ? 'block' : 'none';\n",
              "    })();\n",
              "  </script>\n",
              "</div>\n",
              "    </div>\n",
              "  </div>\n"
            ],
            "application/vnd.google.colaboratory.intrinsic+json": {
              "type": "dataframe",
              "variable_name": "X_train_pd",
              "summary": "{\n  \"name\": \"X_train_pd\",\n  \"rows\": 549,\n  \"fields\": [\n    {\n      \"column\": \"COMPACTNESS\",\n      \"properties\": {\n        \"dtype\": \"number\",\n        \"std\": 8.058544327513484,\n        \"min\": 76.0,\n        \"max\": 117.0,\n        \"num_unique_values\": 41,\n        \"samples\": [\n          100.0,\n          88.0,\n          94.0\n        ],\n        \"semantic_type\": \"\",\n        \"description\": \"\"\n      }\n    },\n    {\n      \"column\": \"CIRCULARITY\",\n      \"properties\": {\n        \"dtype\": \"number\",\n        \"std\": 6,\n        \"min\": 33,\n        \"max\": 100,\n        \"num_unique_values\": 28,\n        \"samples\": [\n          46,\n          100,\n          49\n        ],\n        \"semantic_type\": \"\",\n        \"description\": \"\"\n      }\n    },\n    {\n      \"column\": \"DISTANCE CIRCULARITY\",\n      \"properties\": {\n        \"dtype\": \"number\",\n        \"std\": 16,\n        \"min\": 36,\n        \"max\": 110,\n        \"num_unique_values\": 62,\n        \"samples\": [\n          94,\n          102,\n          82\n        ],\n        \"semantic_type\": \"\",\n        \"description\": \"\"\n      }\n    },\n    {\n      \"column\": \"RADIUS RATIO\",\n      \"properties\": {\n        \"dtype\": \"number\",\n        \"std\": 33,\n        \"min\": 73,\n        \"max\": 306,\n        \"num_unique_values\": 127,\n        \"samples\": [\n          126,\n          196,\n          188\n        ],\n        \"semantic_type\": \"\",\n        \"description\": \"\"\n      }\n    },\n    {\n      \"column\": \"PR.AXIS ASPECT RATIO\",\n      \"properties\": {\n        \"dtype\": \"number\",\n        \"std\": 9,\n        \"min\": 47,\n        \"max\": 199,\n        \"num_unique_values\": 32,\n        \"samples\": [\n          47,\n          52,\n          51\n        ],\n        \"semantic_type\": \"\",\n        \"description\": \"\"\n      }\n    },\n    {\n      \"column\": \"MAX.LENGTH ASPECT RATIO\",\n      \"properties\": {\n        \"dtype\": \"number\",\n        \"std\": 4,\n        \"min\": 2,\n        \"max\": 73,\n        \"num_unique_values\": 17,\n        \"samples\": [\n          9,\n          12,\n          8\n        ],\n        \"semantic_type\": \"\",\n        \"description\": \"\"\n      }\n    },\n    {\n      \"column\": \"SCATTER RATIO\",\n      \"properties\": {\n        \"dtype\": \"number\",\n        \"std\": 33,\n        \"min\": 6,\n        \"max\": 265,\n        \"num_unique_values\": 120,\n        \"samples\": [\n          135,\n          179,\n          153\n        ],\n        \"semantic_type\": \"\",\n        \"description\": \"\"\n      }\n    },\n    {\n      \"column\": \"ELONGATEDNESS\",\n      \"properties\": {\n        \"dtype\": \"number\",\n        \"std\": 9,\n        \"min\": 26,\n        \"max\": 162,\n        \"num_unique_values\": 35,\n        \"samples\": [\n          58,\n          50,\n          36\n        ],\n        \"semantic_type\": \"\",\n        \"description\": \"\"\n      }\n    },\n    {\n      \"column\": \"PR.AXIS RECTANGULARITY\",\n      \"properties\": {\n        \"dtype\": \"number\",\n        \"std\": 2,\n        \"min\": 17,\n        \"max\": 40,\n        \"num_unique_values\": 14,\n        \"samples\": [\n          28,\n          27,\n          19\n        ],\n        \"semantic_type\": \"\",\n        \"description\": \"\"\n      }\n    },\n    {\n      \"column\": \"MAX.LENGTH RECTANGULARITY\",\n      \"properties\": {\n        \"dtype\": \"number\",\n        \"std\": 15,\n        \"min\": 20,\n        \"max\": 186,\n        \"num_unique_values\": 66,\n        \"samples\": [\n          168,\n          176,\n          145\n        ],\n        \"semantic_type\": \"\",\n        \"description\": \"\"\n      }\n    },\n    {\n      \"column\": \"SCALED VARIANCE ALONG MAJOR AXIS\",\n      \"properties\": {\n        \"dtype\": \"number\",\n        \"std\": 30,\n        \"min\": 127,\n        \"max\": 288,\n        \"num_unique_values\": 117,\n        \"samples\": [\n          202,\n          184,\n          217\n        ],\n        \"semantic_type\": \"\",\n        \"description\": \"\"\n      }\n    },\n    {\n      \"column\": \"SCALED VARIANCE ALONG MINOR AXIS\",\n      \"properties\": {\n        \"dtype\": \"number\",\n        \"std\": 171,\n        \"min\": 189,\n        \"max\": 1018,\n        \"num_unique_values\": 334,\n        \"samples\": [\n          583,\n          283,\n          666\n        ],\n        \"semantic_type\": \"\",\n        \"description\": \"\"\n      }\n    },\n    {\n      \"column\": \"SCALED RADIUS OF GYRATION\",\n      \"properties\": {\n        \"dtype\": \"number\",\n        \"std\": 33,\n        \"min\": 112,\n        \"max\": 401,\n        \"num_unique_values\": 132,\n        \"samples\": [\n          136,\n          214,\n          163\n        ],\n        \"semantic_type\": \"\",\n        \"description\": \"\"\n      }\n    },\n    {\n      \"column\": \"SKEWNESS ABOUT MAJOR AXIS\",\n      \"properties\": {\n        \"dtype\": \"number\",\n        \"std\": 7,\n        \"min\": 59,\n        \"max\": 127,\n        \"num_unique_values\": 36,\n        \"samples\": [\n          60,\n          79,\n          119\n        ],\n        \"semantic_type\": \"\",\n        \"description\": \"\"\n      }\n    },\n    {\n      \"column\": \"SKEWNESS ABOUT MINOR AXIS\",\n      \"properties\": {\n        \"dtype\": \"number\",\n        \"std\": 5,\n        \"min\": 0,\n        \"max\": 72,\n        \"num_unique_values\": 24,\n        \"samples\": [\n          12,\n          14,\n          4\n        ],\n        \"semantic_type\": \"\",\n        \"description\": \"\"\n      }\n    },\n    {\n      \"column\": \"KURTOSIS ABOUT MINOR AXIS\",\n      \"properties\": {\n        \"dtype\": \"number\",\n        \"std\": 8,\n        \"min\": 0,\n        \"max\": 40,\n        \"num_unique_values\": 40,\n        \"samples\": [\n          6,\n          10,\n          23\n        ],\n        \"semantic_type\": \"\",\n        \"description\": \"\"\n      }\n    },\n    {\n      \"column\": \"KURTOSIS ABOUT MAJOR AXIS\",\n      \"properties\": {\n        \"dtype\": \"number\",\n        \"std\": 9,\n        \"min\": 19,\n        \"max\": 206,\n        \"num_unique_values\": 31,\n        \"samples\": [\n          176,\n          178,\n          202\n        ],\n        \"semantic_type\": \"\",\n        \"description\": \"\"\n      }\n    },\n    {\n      \"column\": \"HOLLOWS RATIO\",\n      \"properties\": {\n        \"dtype\": \"number\",\n        \"std\": 7,\n        \"min\": 181,\n        \"max\": 211,\n        \"num_unique_values\": 31,\n        \"samples\": [\n          183,\n          184,\n          185\n        ],\n        \"semantic_type\": \"\",\n        \"description\": \"\"\n      }\n    }\n  ]\n}"
            }
          },
          "metadata": {},
          "execution_count": 5
        }
      ],
      "source": [
        "X_train_pd = pd.DataFrame(X_train)\n",
        "\n",
        "# First 15 rows of our dataset.\n",
        "X_train_pd.head(15)"
      ]
    },
    {
      "cell_type": "markdown",
      "metadata": {
        "nbgrader": {
          "grade": false,
          "grade_id": "cell-98e7d91d77d65fcf",
          "locked": true,
          "schema_version": 2,
          "solution": false
        },
        "id": "5bie-0aI9yQx"
      },
      "source": [
        "Methods `describe` and `info` deliver some useful information."
      ]
    },
    {
      "cell_type": "code",
      "execution_count": null,
      "metadata": {
        "colab": {
          "base_uri": "https://localhost:8080/",
          "height": 389
        },
        "id": "VV2Li0DL9yQx",
        "outputId": "5baf9dab-acbd-4baf-a7d7-4583c894844e",
        "collapsed": true
      },
      "outputs": [
        {
          "output_type": "execute_result",
          "data": {
            "text/plain": [
              "       COMPACTNESS  CIRCULARITY  DISTANCE CIRCULARITY  RADIUS RATIO  \\\n",
              "count   549.000000   549.000000            549.000000    549.000000   \n",
              "mean     93.510018    44.792350             81.734062    167.974499   \n",
              "std       8.058544     6.581373             16.043916     33.270503   \n",
              "min      76.000000    33.000000             36.000000     73.000000   \n",
              "25%      87.000000    40.000000             70.000000    140.000000   \n",
              "50%      93.000000    44.000000             79.000000    165.000000   \n",
              "75%      99.000000    49.000000             98.000000    195.000000   \n",
              "max     117.000000   100.000000            110.000000    306.000000   \n",
              "\n",
              "       PR.AXIS ASPECT RATIO  MAX.LENGTH ASPECT RATIO  SCATTER RATIO  \\\n",
              "count            549.000000               549.000000     549.000000   \n",
              "mean              61.874317                 8.579235     167.043716   \n",
              "std                9.203332                 4.810990      33.227181   \n",
              "min               47.000000                 2.000000       6.000000   \n",
              "25%               57.000000                 7.000000     146.000000   \n",
              "50%               61.000000                 8.000000     157.000000   \n",
              "75%               66.000000                10.000000     196.000000   \n",
              "max              199.000000                73.000000     265.000000   \n",
              "\n",
              "       ELONGATEDNESS  PR.AXIS RECTANGULARITY  MAX.LENGTH RECTANGULARITY  \\\n",
              "count     549.000000              549.000000                 549.000000   \n",
              "mean       41.495446               20.504554                 147.244080   \n",
              "std         9.329261                2.659935                  15.585606   \n",
              "min        26.000000               17.000000                  20.000000   \n",
              "25%        34.000000               19.000000                 136.000000   \n",
              "50%        43.000000               20.000000                 145.000000   \n",
              "75%        46.000000               23.000000                 159.000000   \n",
              "max       162.000000               40.000000                 186.000000   \n",
              "\n",
              "       SCALED VARIANCE ALONG MAJOR AXIS  SCALED VARIANCE ALONG MINOR AXIS  \\\n",
              "count                        549.000000                        549.000000   \n",
              "mean                         186.621129                        431.154827   \n",
              "std                           30.542695                        171.786660   \n",
              "min                          127.000000                        189.000000   \n",
              "25%                          167.000000                        316.000000   \n",
              "50%                          177.000000                        363.000000   \n",
              "75%                          216.000000                        576.000000   \n",
              "max                          288.000000                       1018.000000   \n",
              "\n",
              "       SCALED RADIUS OF GYRATION  SKEWNESS ABOUT MAJOR AXIS  \\\n",
              "count                 549.000000                 549.000000   \n",
              "mean                  174.265938                  72.255009   \n",
              "std                    33.172772                   7.674051   \n",
              "min                   112.000000                  59.000000   \n",
              "25%                   149.000000                  67.000000   \n",
              "50%                   173.000000                  71.000000   \n",
              "75%                   197.000000                  75.000000   \n",
              "max                   401.000000                 127.000000   \n",
              "\n",
              "       SKEWNESS ABOUT MINOR AXIS  KURTOSIS ABOUT MINOR AXIS  \\\n",
              "count                 549.000000                 549.000000   \n",
              "mean                    6.642987                  12.622951   \n",
              "std                     5.711115                   8.833718   \n",
              "min                     0.000000                   0.000000   \n",
              "25%                     2.000000                   6.000000   \n",
              "50%                     6.000000                  11.000000   \n",
              "75%                    10.000000                  19.000000   \n",
              "max                    72.000000                  40.000000   \n",
              "\n",
              "       KURTOSIS ABOUT MAJOR AXIS  HOLLOWS RATIO  \n",
              "count                 549.000000     549.000000  \n",
              "mean                  188.668488     195.846995  \n",
              "std                     9.595626       7.443602  \n",
              "min                    19.000000     181.000000  \n",
              "25%                   184.000000     191.000000  \n",
              "50%                   189.000000     197.000000  \n",
              "75%                   193.000000     201.000000  \n",
              "max                   206.000000     211.000000  "
            ],
            "text/html": [
              "\n",
              "  <div id=\"df-3f672f07-2e80-46be-ada0-1e72ae409e51\" class=\"colab-df-container\">\n",
              "    <div>\n",
              "<style scoped>\n",
              "    .dataframe tbody tr th:only-of-type {\n",
              "        vertical-align: middle;\n",
              "    }\n",
              "\n",
              "    .dataframe tbody tr th {\n",
              "        vertical-align: top;\n",
              "    }\n",
              "\n",
              "    .dataframe thead th {\n",
              "        text-align: right;\n",
              "    }\n",
              "</style>\n",
              "<table border=\"1\" class=\"dataframe\">\n",
              "  <thead>\n",
              "    <tr style=\"text-align: right;\">\n",
              "      <th></th>\n",
              "      <th>COMPACTNESS</th>\n",
              "      <th>CIRCULARITY</th>\n",
              "      <th>DISTANCE CIRCULARITY</th>\n",
              "      <th>RADIUS RATIO</th>\n",
              "      <th>PR.AXIS ASPECT RATIO</th>\n",
              "      <th>MAX.LENGTH ASPECT RATIO</th>\n",
              "      <th>SCATTER RATIO</th>\n",
              "      <th>ELONGATEDNESS</th>\n",
              "      <th>PR.AXIS RECTANGULARITY</th>\n",
              "      <th>MAX.LENGTH RECTANGULARITY</th>\n",
              "      <th>SCALED VARIANCE ALONG MAJOR AXIS</th>\n",
              "      <th>SCALED VARIANCE ALONG MINOR AXIS</th>\n",
              "      <th>SCALED RADIUS OF GYRATION</th>\n",
              "      <th>SKEWNESS ABOUT MAJOR AXIS</th>\n",
              "      <th>SKEWNESS ABOUT MINOR AXIS</th>\n",
              "      <th>KURTOSIS ABOUT MINOR AXIS</th>\n",
              "      <th>KURTOSIS ABOUT MAJOR AXIS</th>\n",
              "      <th>HOLLOWS RATIO</th>\n",
              "    </tr>\n",
              "  </thead>\n",
              "  <tbody>\n",
              "    <tr>\n",
              "      <th>count</th>\n",
              "      <td>549.000000</td>\n",
              "      <td>549.000000</td>\n",
              "      <td>549.000000</td>\n",
              "      <td>549.000000</td>\n",
              "      <td>549.000000</td>\n",
              "      <td>549.000000</td>\n",
              "      <td>549.000000</td>\n",
              "      <td>549.000000</td>\n",
              "      <td>549.000000</td>\n",
              "      <td>549.000000</td>\n",
              "      <td>549.000000</td>\n",
              "      <td>549.000000</td>\n",
              "      <td>549.000000</td>\n",
              "      <td>549.000000</td>\n",
              "      <td>549.000000</td>\n",
              "      <td>549.000000</td>\n",
              "      <td>549.000000</td>\n",
              "      <td>549.000000</td>\n",
              "    </tr>\n",
              "    <tr>\n",
              "      <th>mean</th>\n",
              "      <td>93.510018</td>\n",
              "      <td>44.792350</td>\n",
              "      <td>81.734062</td>\n",
              "      <td>167.974499</td>\n",
              "      <td>61.874317</td>\n",
              "      <td>8.579235</td>\n",
              "      <td>167.043716</td>\n",
              "      <td>41.495446</td>\n",
              "      <td>20.504554</td>\n",
              "      <td>147.244080</td>\n",
              "      <td>186.621129</td>\n",
              "      <td>431.154827</td>\n",
              "      <td>174.265938</td>\n",
              "      <td>72.255009</td>\n",
              "      <td>6.642987</td>\n",
              "      <td>12.622951</td>\n",
              "      <td>188.668488</td>\n",
              "      <td>195.846995</td>\n",
              "    </tr>\n",
              "    <tr>\n",
              "      <th>std</th>\n",
              "      <td>8.058544</td>\n",
              "      <td>6.581373</td>\n",
              "      <td>16.043916</td>\n",
              "      <td>33.270503</td>\n",
              "      <td>9.203332</td>\n",
              "      <td>4.810990</td>\n",
              "      <td>33.227181</td>\n",
              "      <td>9.329261</td>\n",
              "      <td>2.659935</td>\n",
              "      <td>15.585606</td>\n",
              "      <td>30.542695</td>\n",
              "      <td>171.786660</td>\n",
              "      <td>33.172772</td>\n",
              "      <td>7.674051</td>\n",
              "      <td>5.711115</td>\n",
              "      <td>8.833718</td>\n",
              "      <td>9.595626</td>\n",
              "      <td>7.443602</td>\n",
              "    </tr>\n",
              "    <tr>\n",
              "      <th>min</th>\n",
              "      <td>76.000000</td>\n",
              "      <td>33.000000</td>\n",
              "      <td>36.000000</td>\n",
              "      <td>73.000000</td>\n",
              "      <td>47.000000</td>\n",
              "      <td>2.000000</td>\n",
              "      <td>6.000000</td>\n",
              "      <td>26.000000</td>\n",
              "      <td>17.000000</td>\n",
              "      <td>20.000000</td>\n",
              "      <td>127.000000</td>\n",
              "      <td>189.000000</td>\n",
              "      <td>112.000000</td>\n",
              "      <td>59.000000</td>\n",
              "      <td>0.000000</td>\n",
              "      <td>0.000000</td>\n",
              "      <td>19.000000</td>\n",
              "      <td>181.000000</td>\n",
              "    </tr>\n",
              "    <tr>\n",
              "      <th>25%</th>\n",
              "      <td>87.000000</td>\n",
              "      <td>40.000000</td>\n",
              "      <td>70.000000</td>\n",
              "      <td>140.000000</td>\n",
              "      <td>57.000000</td>\n",
              "      <td>7.000000</td>\n",
              "      <td>146.000000</td>\n",
              "      <td>34.000000</td>\n",
              "      <td>19.000000</td>\n",
              "      <td>136.000000</td>\n",
              "      <td>167.000000</td>\n",
              "      <td>316.000000</td>\n",
              "      <td>149.000000</td>\n",
              "      <td>67.000000</td>\n",
              "      <td>2.000000</td>\n",
              "      <td>6.000000</td>\n",
              "      <td>184.000000</td>\n",
              "      <td>191.000000</td>\n",
              "    </tr>\n",
              "    <tr>\n",
              "      <th>50%</th>\n",
              "      <td>93.000000</td>\n",
              "      <td>44.000000</td>\n",
              "      <td>79.000000</td>\n",
              "      <td>165.000000</td>\n",
              "      <td>61.000000</td>\n",
              "      <td>8.000000</td>\n",
              "      <td>157.000000</td>\n",
              "      <td>43.000000</td>\n",
              "      <td>20.000000</td>\n",
              "      <td>145.000000</td>\n",
              "      <td>177.000000</td>\n",
              "      <td>363.000000</td>\n",
              "      <td>173.000000</td>\n",
              "      <td>71.000000</td>\n",
              "      <td>6.000000</td>\n",
              "      <td>11.000000</td>\n",
              "      <td>189.000000</td>\n",
              "      <td>197.000000</td>\n",
              "    </tr>\n",
              "    <tr>\n",
              "      <th>75%</th>\n",
              "      <td>99.000000</td>\n",
              "      <td>49.000000</td>\n",
              "      <td>98.000000</td>\n",
              "      <td>195.000000</td>\n",
              "      <td>66.000000</td>\n",
              "      <td>10.000000</td>\n",
              "      <td>196.000000</td>\n",
              "      <td>46.000000</td>\n",
              "      <td>23.000000</td>\n",
              "      <td>159.000000</td>\n",
              "      <td>216.000000</td>\n",
              "      <td>576.000000</td>\n",
              "      <td>197.000000</td>\n",
              "      <td>75.000000</td>\n",
              "      <td>10.000000</td>\n",
              "      <td>19.000000</td>\n",
              "      <td>193.000000</td>\n",
              "      <td>201.000000</td>\n",
              "    </tr>\n",
              "    <tr>\n",
              "      <th>max</th>\n",
              "      <td>117.000000</td>\n",
              "      <td>100.000000</td>\n",
              "      <td>110.000000</td>\n",
              "      <td>306.000000</td>\n",
              "      <td>199.000000</td>\n",
              "      <td>73.000000</td>\n",
              "      <td>265.000000</td>\n",
              "      <td>162.000000</td>\n",
              "      <td>40.000000</td>\n",
              "      <td>186.000000</td>\n",
              "      <td>288.000000</td>\n",
              "      <td>1018.000000</td>\n",
              "      <td>401.000000</td>\n",
              "      <td>127.000000</td>\n",
              "      <td>72.000000</td>\n",
              "      <td>40.000000</td>\n",
              "      <td>206.000000</td>\n",
              "      <td>211.000000</td>\n",
              "    </tr>\n",
              "  </tbody>\n",
              "</table>\n",
              "</div>\n",
              "    <div class=\"colab-df-buttons\">\n",
              "\n",
              "  <div class=\"colab-df-container\">\n",
              "    <button class=\"colab-df-convert\" onclick=\"convertToInteractive('df-3f672f07-2e80-46be-ada0-1e72ae409e51')\"\n",
              "            title=\"Convert this dataframe to an interactive table.\"\n",
              "            style=\"display:none;\">\n",
              "\n",
              "  <svg xmlns=\"http://www.w3.org/2000/svg\" height=\"24px\" viewBox=\"0 -960 960 960\">\n",
              "    <path d=\"M120-120v-720h720v720H120Zm60-500h600v-160H180v160Zm220 220h160v-160H400v160Zm0 220h160v-160H400v160ZM180-400h160v-160H180v160Zm440 0h160v-160H620v160ZM180-180h160v-160H180v160Zm440 0h160v-160H620v160Z\"/>\n",
              "  </svg>\n",
              "    </button>\n",
              "\n",
              "  <style>\n",
              "    .colab-df-container {\n",
              "      display:flex;\n",
              "      gap: 12px;\n",
              "    }\n",
              "\n",
              "    .colab-df-convert {\n",
              "      background-color: #E8F0FE;\n",
              "      border: none;\n",
              "      border-radius: 50%;\n",
              "      cursor: pointer;\n",
              "      display: none;\n",
              "      fill: #1967D2;\n",
              "      height: 32px;\n",
              "      padding: 0 0 0 0;\n",
              "      width: 32px;\n",
              "    }\n",
              "\n",
              "    .colab-df-convert:hover {\n",
              "      background-color: #E2EBFA;\n",
              "      box-shadow: 0px 1px 2px rgba(60, 64, 67, 0.3), 0px 1px 3px 1px rgba(60, 64, 67, 0.15);\n",
              "      fill: #174EA6;\n",
              "    }\n",
              "\n",
              "    .colab-df-buttons div {\n",
              "      margin-bottom: 4px;\n",
              "    }\n",
              "\n",
              "    [theme=dark] .colab-df-convert {\n",
              "      background-color: #3B4455;\n",
              "      fill: #D2E3FC;\n",
              "    }\n",
              "\n",
              "    [theme=dark] .colab-df-convert:hover {\n",
              "      background-color: #434B5C;\n",
              "      box-shadow: 0px 1px 3px 1px rgba(0, 0, 0, 0.15);\n",
              "      filter: drop-shadow(0px 1px 2px rgba(0, 0, 0, 0.3));\n",
              "      fill: #FFFFFF;\n",
              "    }\n",
              "  </style>\n",
              "\n",
              "    <script>\n",
              "      const buttonEl =\n",
              "        document.querySelector('#df-3f672f07-2e80-46be-ada0-1e72ae409e51 button.colab-df-convert');\n",
              "      buttonEl.style.display =\n",
              "        google.colab.kernel.accessAllowed ? 'block' : 'none';\n",
              "\n",
              "      async function convertToInteractive(key) {\n",
              "        const element = document.querySelector('#df-3f672f07-2e80-46be-ada0-1e72ae409e51');\n",
              "        const dataTable =\n",
              "          await google.colab.kernel.invokeFunction('convertToInteractive',\n",
              "                                                    [key], {});\n",
              "        if (!dataTable) return;\n",
              "\n",
              "        const docLinkHtml = 'Like what you see? Visit the ' +\n",
              "          '<a target=\"_blank\" href=https://colab.research.google.com/notebooks/data_table.ipynb>data table notebook</a>'\n",
              "          + ' to learn more about interactive tables.';\n",
              "        element.innerHTML = '';\n",
              "        dataTable['output_type'] = 'display_data';\n",
              "        await google.colab.output.renderOutput(dataTable, element);\n",
              "        const docLink = document.createElement('div');\n",
              "        docLink.innerHTML = docLinkHtml;\n",
              "        element.appendChild(docLink);\n",
              "      }\n",
              "    </script>\n",
              "  </div>\n",
              "\n",
              "\n",
              "<div id=\"df-499a9396-3848-4675-9c87-c142e61b6cf8\">\n",
              "  <button class=\"colab-df-quickchart\" onclick=\"quickchart('df-499a9396-3848-4675-9c87-c142e61b6cf8')\"\n",
              "            title=\"Suggest charts\"\n",
              "            style=\"display:none;\">\n",
              "\n",
              "<svg xmlns=\"http://www.w3.org/2000/svg\" height=\"24px\"viewBox=\"0 0 24 24\"\n",
              "     width=\"24px\">\n",
              "    <g>\n",
              "        <path d=\"M19 3H5c-1.1 0-2 .9-2 2v14c0 1.1.9 2 2 2h14c1.1 0 2-.9 2-2V5c0-1.1-.9-2-2-2zM9 17H7v-7h2v7zm4 0h-2V7h2v10zm4 0h-2v-4h2v4z\"/>\n",
              "    </g>\n",
              "</svg>\n",
              "  </button>\n",
              "\n",
              "<style>\n",
              "  .colab-df-quickchart {\n",
              "      --bg-color: #E8F0FE;\n",
              "      --fill-color: #1967D2;\n",
              "      --hover-bg-color: #E2EBFA;\n",
              "      --hover-fill-color: #174EA6;\n",
              "      --disabled-fill-color: #AAA;\n",
              "      --disabled-bg-color: #DDD;\n",
              "  }\n",
              "\n",
              "  [theme=dark] .colab-df-quickchart {\n",
              "      --bg-color: #3B4455;\n",
              "      --fill-color: #D2E3FC;\n",
              "      --hover-bg-color: #434B5C;\n",
              "      --hover-fill-color: #FFFFFF;\n",
              "      --disabled-bg-color: #3B4455;\n",
              "      --disabled-fill-color: #666;\n",
              "  }\n",
              "\n",
              "  .colab-df-quickchart {\n",
              "    background-color: var(--bg-color);\n",
              "    border: none;\n",
              "    border-radius: 50%;\n",
              "    cursor: pointer;\n",
              "    display: none;\n",
              "    fill: var(--fill-color);\n",
              "    height: 32px;\n",
              "    padding: 0;\n",
              "    width: 32px;\n",
              "  }\n",
              "\n",
              "  .colab-df-quickchart:hover {\n",
              "    background-color: var(--hover-bg-color);\n",
              "    box-shadow: 0 1px 2px rgba(60, 64, 67, 0.3), 0 1px 3px 1px rgba(60, 64, 67, 0.15);\n",
              "    fill: var(--button-hover-fill-color);\n",
              "  }\n",
              "\n",
              "  .colab-df-quickchart-complete:disabled,\n",
              "  .colab-df-quickchart-complete:disabled:hover {\n",
              "    background-color: var(--disabled-bg-color);\n",
              "    fill: var(--disabled-fill-color);\n",
              "    box-shadow: none;\n",
              "  }\n",
              "\n",
              "  .colab-df-spinner {\n",
              "    border: 2px solid var(--fill-color);\n",
              "    border-color: transparent;\n",
              "    border-bottom-color: var(--fill-color);\n",
              "    animation:\n",
              "      spin 1s steps(1) infinite;\n",
              "  }\n",
              "\n",
              "  @keyframes spin {\n",
              "    0% {\n",
              "      border-color: transparent;\n",
              "      border-bottom-color: var(--fill-color);\n",
              "      border-left-color: var(--fill-color);\n",
              "    }\n",
              "    20% {\n",
              "      border-color: transparent;\n",
              "      border-left-color: var(--fill-color);\n",
              "      border-top-color: var(--fill-color);\n",
              "    }\n",
              "    30% {\n",
              "      border-color: transparent;\n",
              "      border-left-color: var(--fill-color);\n",
              "      border-top-color: var(--fill-color);\n",
              "      border-right-color: var(--fill-color);\n",
              "    }\n",
              "    40% {\n",
              "      border-color: transparent;\n",
              "      border-right-color: var(--fill-color);\n",
              "      border-top-color: var(--fill-color);\n",
              "    }\n",
              "    60% {\n",
              "      border-color: transparent;\n",
              "      border-right-color: var(--fill-color);\n",
              "    }\n",
              "    80% {\n",
              "      border-color: transparent;\n",
              "      border-right-color: var(--fill-color);\n",
              "      border-bottom-color: var(--fill-color);\n",
              "    }\n",
              "    90% {\n",
              "      border-color: transparent;\n",
              "      border-bottom-color: var(--fill-color);\n",
              "    }\n",
              "  }\n",
              "</style>\n",
              "\n",
              "  <script>\n",
              "    async function quickchart(key) {\n",
              "      const quickchartButtonEl =\n",
              "        document.querySelector('#' + key + ' button');\n",
              "      quickchartButtonEl.disabled = true;  // To prevent multiple clicks.\n",
              "      quickchartButtonEl.classList.add('colab-df-spinner');\n",
              "      try {\n",
              "        const charts = await google.colab.kernel.invokeFunction(\n",
              "            'suggestCharts', [key], {});\n",
              "      } catch (error) {\n",
              "        console.error('Error during call to suggestCharts:', error);\n",
              "      }\n",
              "      quickchartButtonEl.classList.remove('colab-df-spinner');\n",
              "      quickchartButtonEl.classList.add('colab-df-quickchart-complete');\n",
              "    }\n",
              "    (() => {\n",
              "      let quickchartButtonEl =\n",
              "        document.querySelector('#df-499a9396-3848-4675-9c87-c142e61b6cf8 button');\n",
              "      quickchartButtonEl.style.display =\n",
              "        google.colab.kernel.accessAllowed ? 'block' : 'none';\n",
              "    })();\n",
              "  </script>\n",
              "</div>\n",
              "    </div>\n",
              "  </div>\n"
            ],
            "application/vnd.google.colaboratory.intrinsic+json": {
              "type": "dataframe",
              "summary": "{\n  \"name\": \"X_train_pd\",\n  \"rows\": 8,\n  \"fields\": [\n    {\n      \"column\": \"COMPACTNESS\",\n      \"properties\": {\n        \"dtype\": \"number\",\n        \"std\": 168.25747338195646,\n        \"min\": 8.058544327513484,\n        \"max\": 549.0,\n        \"num_unique_values\": 8,\n        \"samples\": [\n          93.51001821493625,\n          93.0,\n          549.0\n        ],\n        \"semantic_type\": \"\",\n        \"description\": \"\"\n      }\n    },\n    {\n      \"column\": \"CIRCULARITY\",\n      \"properties\": {\n        \"dtype\": \"number\",\n        \"std\": 179.94095884567577,\n        \"min\": 6.581372722613753,\n        \"max\": 549.0,\n        \"num_unique_values\": 8,\n        \"samples\": [\n          44.79234972677595,\n          44.0,\n          549.0\n        ],\n        \"semantic_type\": \"\",\n        \"description\": \"\"\n      }\n    },\n    {\n      \"column\": \"DISTANCE CIRCULARITY\",\n      \"properties\": {\n        \"dtype\": \"number\",\n        \"std\": 172.10361647624043,\n        \"min\": 16.043916294859244,\n        \"max\": 549.0,\n        \"num_unique_values\": 8,\n        \"samples\": [\n          81.73406193078324,\n          79.0,\n          549.0\n        ],\n        \"semantic_type\": \"\",\n        \"description\": \"\"\n      }\n    },\n    {\n      \"column\": \"RADIUS RATIO\",\n      \"properties\": {\n        \"dtype\": \"number\",\n        \"std\": 161.56973248284442,\n        \"min\": 33.27050278874889,\n        \"max\": 549.0,\n        \"num_unique_values\": 8,\n        \"samples\": [\n          167.9744990892532,\n          165.0,\n          549.0\n        ],\n        \"semantic_type\": \"\",\n        \"description\": \"\"\n      }\n    },\n    {\n      \"column\": \"PR.AXIS ASPECT RATIO\",\n      \"properties\": {\n        \"dtype\": \"number\",\n        \"std\": 177.52957448021098,\n        \"min\": 9.203332452314912,\n        \"max\": 549.0,\n        \"num_unique_values\": 8,\n        \"samples\": [\n          61.87431693989071,\n          61.0,\n          549.0\n        ],\n        \"semantic_type\": \"\",\n        \"description\": \"\"\n      }\n    },\n    {\n      \"column\": \"MAX.LENGTH ASPECT RATIO\",\n      \"properties\": {\n        \"dtype\": \"number\",\n        \"std\": 189.81142807815425,\n        \"min\": 2.0,\n        \"max\": 549.0,\n        \"num_unique_values\": 8,\n        \"samples\": [\n          8.579234972677595,\n          8.0,\n          549.0\n        ],\n        \"semantic_type\": \"\",\n        \"description\": \"\"\n      }\n    },\n    {\n      \"column\": \"SCATTER RATIO\",\n      \"properties\": {\n        \"dtype\": \"number\",\n        \"std\": 167.55708683286755,\n        \"min\": 6.0,\n        \"max\": 549.0,\n        \"num_unique_values\": 8,\n        \"samples\": [\n          167.04371584699453,\n          157.0,\n          549.0\n        ],\n        \"semantic_type\": \"\",\n        \"description\": \"\"\n      }\n    },\n    {\n      \"column\": \"ELONGATEDNESS\",\n      \"properties\": {\n        \"dtype\": \"number\",\n        \"std\": 181.8754288336287,\n        \"min\": 9.329260794022858,\n        \"max\": 549.0,\n        \"num_unique_values\": 8,\n        \"samples\": [\n          41.49544626593807,\n          43.0,\n          549.0\n        ],\n        \"semantic_type\": \"\",\n        \"description\": \"\"\n      }\n    },\n    {\n      \"column\": \"PR.AXIS RECTANGULARITY\",\n      \"properties\": {\n        \"dtype\": \"number\",\n        \"std\": 187.19507327411054,\n        \"min\": 2.659934763916872,\n        \"max\": 549.0,\n        \"num_unique_values\": 8,\n        \"samples\": [\n          20.50455373406193,\n          20.0,\n          549.0\n        ],\n        \"semantic_type\": \"\",\n        \"description\": \"\"\n      }\n    },\n    {\n      \"column\": \"MAX.LENGTH RECTANGULARITY\",\n      \"properties\": {\n        \"dtype\": \"number\",\n        \"std\": 165.90016280605457,\n        \"min\": 15.585606150819263,\n        \"max\": 549.0,\n        \"num_unique_values\": 8,\n        \"samples\": [\n          147.2440801457195,\n          145.0,\n          549.0\n        ],\n        \"semantic_type\": \"\",\n        \"description\": \"\"\n      }\n    },\n    {\n      \"column\": \"SCALED VARIANCE ALONG MAJOR AXIS\",\n      \"properties\": {\n        \"dtype\": \"number\",\n        \"std\": 152.66764526517417,\n        \"min\": 30.542694626909718,\n        \"max\": 549.0,\n        \"num_unique_values\": 8,\n        \"samples\": [\n          186.62112932604737,\n          177.0,\n          549.0\n        ],\n        \"semantic_type\": \"\",\n        \"description\": \"\"\n      }\n    },\n    {\n      \"column\": \"SCALED VARIANCE ALONG MINOR AXIS\",\n      \"properties\": {\n        \"dtype\": \"number\",\n        \"std\": 272.470314851111,\n        \"min\": 171.7866602556902,\n        \"max\": 1018.0,\n        \"num_unique_values\": 8,\n        \"samples\": [\n          431.1548269581057,\n          363.0,\n          549.0\n        ],\n        \"semantic_type\": \"\",\n        \"description\": \"\"\n      }\n    },\n    {\n      \"column\": \"SCALED RADIUS OF GYRATION\",\n      \"properties\": {\n        \"dtype\": \"number\",\n        \"std\": 167.90300028830214,\n        \"min\": 33.17277193002878,\n        \"max\": 549.0,\n        \"num_unique_values\": 8,\n        \"samples\": [\n          174.26593806921676,\n          173.0,\n          549.0\n        ],\n        \"semantic_type\": \"\",\n        \"description\": \"\"\n      }\n    },\n    {\n      \"column\": \"SKEWNESS ABOUT MAJOR AXIS\",\n      \"properties\": {\n        \"dtype\": \"number\",\n        \"std\": 172.94338808054079,\n        \"min\": 7.6740508251792825,\n        \"max\": 549.0,\n        \"num_unique_values\": 8,\n        \"samples\": [\n          72.25500910746813,\n          71.0,\n          549.0\n        ],\n        \"semantic_type\": \"\",\n        \"description\": \"\"\n      }\n    },\n    {\n      \"column\": \"SKEWNESS ABOUT MINOR AXIS\",\n      \"properties\": {\n        \"dtype\": \"number\",\n        \"std\": 190.40144630878316,\n        \"min\": 0.0,\n        \"max\": 549.0,\n        \"num_unique_values\": 8,\n        \"samples\": [\n          6.6429872495446265,\n          6.0,\n          549.0\n        ],\n        \"semantic_type\": \"\",\n        \"description\": \"\"\n      }\n    },\n    {\n      \"column\": \"KURTOSIS ABOUT MINOR AXIS\",\n      \"properties\": {\n        \"dtype\": \"number\",\n        \"std\": 189.5551541721355,\n        \"min\": 0.0,\n        \"max\": 549.0,\n        \"num_unique_values\": 8,\n        \"samples\": [\n          12.62295081967213,\n          11.0,\n          549.0\n        ],\n        \"semantic_type\": \"\",\n        \"description\": \"\"\n      }\n    },\n    {\n      \"column\": \"KURTOSIS ABOUT MAJOR AXIS\",\n      \"properties\": {\n        \"dtype\": \"number\",\n        \"std\": 165.15352770481016,\n        \"min\": 9.595625604376554,\n        \"max\": 549.0,\n        \"num_unique_values\": 8,\n        \"samples\": [\n          188.66848816029145,\n          189.0,\n          549.0\n        ],\n        \"semantic_type\": \"\",\n        \"description\": \"\"\n      }\n    },\n    {\n      \"column\": \"HOLLOWS RATIO\",\n      \"properties\": {\n        \"dtype\": \"number\",\n        \"std\": 149.88015029953672,\n        \"min\": 7.443601516869467,\n        \"max\": 549.0,\n        \"num_unique_values\": 8,\n        \"samples\": [\n          195.84699453551912,\n          197.0,\n          549.0\n        ],\n        \"semantic_type\": \"\",\n        \"description\": \"\"\n      }\n    }\n  ]\n}"
            }
          },
          "metadata": {},
          "execution_count": 6
        }
      ],
      "source": [
        "X_train_pd.describe()"
      ]
    },
    {
      "cell_type": "code",
      "execution_count": null,
      "metadata": {
        "colab": {
          "base_uri": "https://localhost:8080/"
        },
        "id": "wZuVh6f_9yQx",
        "outputId": "ad2673b3-d1ec-4ca0-d552-59a8ecf2f7fb",
        "collapsed": true
      },
      "outputs": [
        {
          "output_type": "stream",
          "name": "stdout",
          "text": [
            "<class 'pandas.core.frame.DataFrame'>\n",
            "Index: 549 entries, 822 to 102\n",
            "Data columns (total 18 columns):\n",
            " #   Column                            Non-Null Count  Dtype  \n",
            "---  ------                            --------------  -----  \n",
            " 0   COMPACTNESS                       549 non-null    float64\n",
            " 1   CIRCULARITY                       549 non-null    int64  \n",
            " 2   DISTANCE CIRCULARITY              549 non-null    int64  \n",
            " 3   RADIUS RATIO                      549 non-null    int64  \n",
            " 4   PR.AXIS ASPECT RATIO              549 non-null    int64  \n",
            " 5   MAX.LENGTH ASPECT RATIO           549 non-null    int64  \n",
            " 6   SCATTER RATIO                     549 non-null    int64  \n",
            " 7   ELONGATEDNESS                     549 non-null    int64  \n",
            " 8   PR.AXIS RECTANGULARITY            549 non-null    int64  \n",
            " 9   MAX.LENGTH RECTANGULARITY         549 non-null    int64  \n",
            " 10  SCALED VARIANCE ALONG MAJOR AXIS  549 non-null    int64  \n",
            " 11  SCALED VARIANCE ALONG MINOR AXIS  549 non-null    int64  \n",
            " 12  SCALED RADIUS OF GYRATION         549 non-null    int64  \n",
            " 13  SKEWNESS ABOUT MAJOR AXIS         549 non-null    int64  \n",
            " 14  SKEWNESS ABOUT MINOR AXIS         549 non-null    int64  \n",
            " 15  KURTOSIS ABOUT MINOR AXIS         549 non-null    int64  \n",
            " 16  KURTOSIS ABOUT MAJOR AXIS         549 non-null    int64  \n",
            " 17  HOLLOWS RATIO                     549 non-null    int64  \n",
            "dtypes: float64(1), int64(17)\n",
            "memory usage: 81.5 KB\n"
          ]
        }
      ],
      "source": [
        "X_train_pd.info()"
      ]
    },
    {
      "cell_type": "markdown",
      "metadata": {
        "nbgrader": {
          "grade": false,
          "grade_id": "cell-be844269be69c387",
          "locked": true,
          "schema_version": 2,
          "solution": false
        },
        "id": "7rJYpqYt9yQy"
      },
      "source": [
        "### 2. Machine Learning pipeline\n",
        "Here you are supposed to perform the desired transformations. Please, explain your results briefly after each task."
      ]
    },
    {
      "cell_type": "markdown",
      "metadata": {
        "id": "5H-pc9-v9yQy"
      },
      "source": [
        "#### 2.0. Data preprocessing\n",
        "* Make some transformations of the dataset (if necessary). Briefly explain the transformations"
      ]
    },
    {
      "cell_type": "code",
      "source": [
        "from sklearn.preprocessing import RobustScaler\n",
        "from sklearn.metrics import make_scorer, accuracy_score, f1_score, roc_auc_score, roc_curve\n",
        "from sklearn.linear_model import LogisticRegressionCV\n",
        "from sklearn.model_selection import GridSearchCV\n",
        "import matplotlib.pyplot as plt"
      ],
      "metadata": {
        "id": "DD2sc-fl1ekE"
      },
      "execution_count": null,
      "outputs": []
    },
    {
      "cell_type": "markdown",
      "metadata": {
        "id": "EJqQaw909yQy"
      },
      "source": [
        "#### 2.1. Basic logistic regression\n",
        "* Find optimal hyperparameters for logistic regression with cross-validation on the `train` data (small grid/random search is enough, no need to find the *best* parameters).\n",
        "\n",
        "* Estimate the model quality with `f1` and `accuracy` scores.\n",
        "* Plot a ROC-curve for the trained model. For the multiclass case you might use `scikitplot` library (e.g. `scikitplot.metrics.plot_roc(test_labels, predicted_proba)`).\n",
        "\n",
        "*Note: please, use the following hyperparameters for logistic regression: `multi_class='multinomial'`, `solver='saga'` `tol=1e-3` and ` max_iter=500`.*"
      ]
    },
    {
      "cell_type": "code",
      "source": [
        "import warnings\n",
        "warnings.filterwarnings(\"ignore\")"
      ],
      "metadata": {
        "id": "s2oTun_ZCrcp"
      },
      "execution_count": null,
      "outputs": []
    },
    {
      "cell_type": "code",
      "source": [
        "model = LogisticRegressionCV(random_state = 42, multi_class='multinomial', solver='saga', tol=1e-3, max_iter=500)\n",
        "\n",
        "param_grid = {\n",
        "    #'penalty': ['l1', 'l2', 'elasticnet'],\n",
        "    'class_weight': ['balanced', None],\n",
        "    'Cs': [1, 10, 100, 1000],\n",
        "    'cv': [ 7, 8, 9, 10]\n",
        "}\n",
        "\n",
        "gridsearch = GridSearchCV(model, param_grid, refit=True, scoring='accuracy')\n",
        "gridsearch.fit(X_train, y_train)\n",
        "# выведем наилучшие параметры\n",
        "print(gridsearch.best_params_)"
      ],
      "metadata": {
        "colab": {
          "base_uri": "https://localhost:8080/"
        },
        "id": "8N5MMNV24S0X",
        "outputId": "517d8b6b-e63e-4d2e-c35c-76d50a5748f1",
        "collapsed": true
      },
      "execution_count": null,
      "outputs": [
        {
          "output_type": "stream",
          "name": "stdout",
          "text": [
            "{'Cs': 1000, 'class_weight': None, 'cv': 8}\n"
          ]
        }
      ]
    },
    {
      "cell_type": "code",
      "source": [
        "# Обучаем модель\n",
        "y_log_reg = gridsearch.predict(X_test)"
      ],
      "metadata": {
        "id": "sSH3iLUR3xAf"
      },
      "execution_count": null,
      "outputs": []
    },
    {
      "cell_type": "code",
      "source": [
        "accuracy = accuracy_score(y_test, y_log_reg)\n",
        "print(\"Logistic Regression accuracy: %.4f\" % accuracy)"
      ],
      "metadata": {
        "colab": {
          "base_uri": "https://localhost:8080/"
        },
        "id": "xp7VokIMGysI",
        "outputId": "072bab02-6337-473e-e355-d86f7c57d6eb"
      },
      "execution_count": null,
      "outputs": [
        {
          "output_type": "stream",
          "name": "stdout",
          "text": [
            "Logistic Regression accuracy: 0.7475\n"
          ]
        }
      ]
    },
    {
      "cell_type": "code",
      "source": [
        "f1 = f1_score(y_test, y_log_reg, average=None)\n",
        "print(\"Logistic Regression :\", f1)"
      ],
      "metadata": {
        "colab": {
          "base_uri": "https://localhost:8080/"
        },
        "id": "dF0c5R3Z44Uf",
        "outputId": "6a29c0d1-7f44-4b1c-ce48-712e744ffb9d"
      },
      "execution_count": null,
      "outputs": [
        {
          "output_type": "stream",
          "name": "stdout",
          "text": [
            "Logistic Regression : [0.91304348 0.57746479 0.50769231 0.92753623]\n"
          ]
        }
      ]
    },
    {
      "cell_type": "code",
      "source": [
        "from sklearn.preprocessing import LabelBinarizer\n",
        "\n",
        "label_binarizer = LabelBinarizer().fit(y_train)\n",
        "y_test_bin = label_binarizer.transform(y_test)\n",
        "y_log_reg_bin = label_binarizer.transform(y_log_reg)"
      ],
      "metadata": {
        "id": "J6f51dFGCE7Q"
      },
      "execution_count": null,
      "outputs": []
    },
    {
      "cell_type": "code",
      "source": [
        "y_log_reg = gridsearch.predict_proba(X_test)"
      ],
      "metadata": {
        "id": "u3nLYCWzoZRh"
      },
      "execution_count": null,
      "outputs": []
    },
    {
      "cell_type": "code",
      "source": [
        "import matplotlib.pyplot as plt\n",
        "from sklearn.metrics import RocCurveDisplay"
      ],
      "metadata": {
        "id": "BYRxpnONo5zI"
      },
      "execution_count": null,
      "outputs": []
    },
    {
      "cell_type": "code",
      "source": [
        "labels = ['saab', 'bus', 'opel', 'van']"
      ],
      "metadata": {
        "id": "2vljFRB4pDsq"
      },
      "execution_count": null,
      "outputs": []
    },
    {
      "cell_type": "code",
      "source": [
        "colors = {\n",
        "    'saab': \"darkorange\",\n",
        "    'bus': \"forestgreen\",\n",
        "    'opel': \"gold\",\n",
        "    'van': \"limegreen\"\n",
        "}"
      ],
      "metadata": {
        "id": "Xg1tW9YUpcj3"
      },
      "execution_count": null,
      "outputs": []
    },
    {
      "cell_type": "code",
      "source": [
        "fig, ax = plt.subplots(figsize=(6, 6))\n",
        "for i in labels:\n",
        "  class_of_interest = i\n",
        "  class_id = np.flatnonzero(label_binarizer.classes_ == class_of_interest)[0]\n",
        "  RocCurveDisplay.from_predictions(\n",
        "      y_test_bin[:, class_id],\n",
        "      y_log_reg[:, class_id],\n",
        "      name=f\"ROC curve for {labels[class_id]}\",\n",
        "      color=colors[i],\n",
        "      ax=ax,\n",
        "      plot_chance_level=(),\n",
        "  )\n",
        "\n",
        "_ = ax.set(\n",
        "    xlabel=\"False Positive Rate\",\n",
        "    ylabel=\"True Positive Rate\",\n",
        "    title=\"One-vs-Rest ROC curves:\\n multiclass\",\n",
        ")"
      ],
      "metadata": {
        "colab": {
          "base_uri": "https://localhost:8080/",
          "height": 585
        },
        "id": "djYsYxf5oJJA",
        "outputId": "ecef0c8f-ffbb-4901-bdcd-2216fe25ca26"
      },
      "execution_count": null,
      "outputs": [
        {
          "output_type": "display_data",
          "data": {
            "text/plain": [
              "<Figure size 600x600 with 1 Axes>"
            ],
            "image/png": "[encoded data removed]"
          },
          "metadata": {}
        }
      ]
    },
    {
      "cell_type": "markdown",
      "metadata": {
        "id": "Td7C1nrb9yQy"
      },
      "source": [
        "#### 2.2. PCA: explained variance plot\n",
        "* Apply the PCA to the train part of the data. Build the explaided variance plot."
      ]
    },
    {
      "cell_type": "code",
      "execution_count": null,
      "metadata": {
        "nbgrader": {
          "grade": true,
          "grade_id": "cell-c6c614740bce090e",
          "locked": false,
          "points": 10,
          "schema_version": 2,
          "solution": true
        },
        "id": "SSpPpQZA9yQz"
      },
      "outputs": [],
      "source": [
        "from sklearn.decomposition import PCA\n",
        "from sklearn.preprocessing import StandardScaler\n",
        "from sklearn.pipeline import Pipeline"
      ]
    },
    {
      "cell_type": "code",
      "source": [
        "pca = PCA(n_components=15)\n",
        "pca.fit(X_train)\n",
        "\n",
        "explained_variance = pca.explained_variance_ratio_"
      ],
      "metadata": {
        "id": "UsfFJDTbs8zR"
      },
      "execution_count": null,
      "outputs": []
    },
    {
      "cell_type": "code",
      "source": [
        "plt.figure(figsize=(10, 6))\n",
        "plt.plot(range(2, len(explained_variance) + 1),\n",
        "         explained_variance[1:]*100,\n",
        "         marker='o',\n",
        "        )\n",
        "plt.title('Scree Plot of Explained Variance for Principal Components')\n",
        "plt.xlabel('Principal Component')\n",
        "plt.ylabel('Explained Variance (in %)')\n",
        "\n",
        "plt.xticks(range(1, len(explained_variance) + 1))\n",
        "plt.grid(True)\n",
        "plt.show()"
      ],
      "metadata": {
        "colab": {
          "base_uri": "https://localhost:8080/",
          "height": 564
        },
        "id": "BRFCk7hhuBgB",
        "outputId": "e9b099f9-0135-464b-82cb-bb37761ecee6"
      },
      "execution_count": null,
      "outputs": [
        {
          "output_type": "display_data",
          "data": {
            "text/plain": [
              "<Figure size 1000x600 with 1 Axes>"
            ],
            "image/png": "[encoded data removed]"
          },
          "metadata": {}
        }
      ]
    },
    {
      "cell_type": "code",
      "source": [
        "plt.bar(range(2, len(pca.explained_variance_)+1), pca.explained_variance_[1:])\n",
        "plt.xlabel('PCA Feature')\n",
        "plt.ylabel('Explained variance')\n",
        "plt.title('Feature Explained Variance')\n",
        "plt.show()"
      ],
      "metadata": {
        "colab": {
          "base_uri": "https://localhost:8080/",
          "height": 472
        },
        "id": "UnBXq_E8ttaq",
        "outputId": "0af41c22-01a0-4ea0-c461-f4b6088cd846"
      },
      "execution_count": null,
      "outputs": [
        {
          "output_type": "display_data",
          "data": {
            "text/plain": [
              "<Figure size 640x480 with 1 Axes>"
            ],
            "image/png": "[encoded data removed]"
          },
          "metadata": {}
        }
      ]
    },
    {
      "cell_type": "markdown",
      "metadata": {
        "nbgrader": {
          "grade": false,
          "grade_id": "cell-0c1fe666f52fe53c",
          "locked": true,
          "schema_version": 2,
          "solution": false
        },
        "id": "H6nEM5uk9yQz"
      },
      "source": [
        "#### 2.3. PCA trasformation\n",
        "* Select the appropriate number of components. Briefly explain your choice. Should you normalize the data?\n",
        "\n",
        "*Use `fit` and `transform` methods to transform the `train` and `test` parts.*"
      ]
    },
    {
      "cell_type": "markdown",
      "source": [
        "Да, в этом случае данные содержат много количественных признаков, которые лежат в разных диапазонах, и чтобы избежать непропорционального влияния некоторых признаков, нужно нормализовать данные.\n",
        "Количество компонентов выбиралось так, чтобы попадало 98% случаев."
      ],
      "metadata": {
        "id": "9KFmcv_V3uCG"
      }
    },
    {
      "cell_type": "code",
      "source": [
        "scaling=StandardScaler()\n",
        "scaling.fit(X_train)\n",
        "X_train_scaled=scaling.transform(X_train)\n",
        "X_test_scaled=scaling.transform(X_test)"
      ],
      "metadata": {
        "id": "kUyZGwqlFvPO"
      },
      "execution_count": null,
      "outputs": []
    },
    {
      "cell_type": "code",
      "source": [
        "pca = PCA(n_components=14)\n",
        "X_train_pca = pca.fit_transform(X_train_scaled)\n",
        "X_test_pca = pca.transform(X_test_scaled)"
      ],
      "metadata": {
        "id": "NWtRUg-MKrMN"
      },
      "execution_count": null,
      "outputs": []
    },
    {
      "cell_type": "markdown",
      "metadata": {
        "id": "GE2Hrm179yQz"
      },
      "source": [
        "**Note: From this point `sklearn` [Pipeline](https://scikit-learn.org/stable/modules/compose.html) might be useful to perform transformations on the data. Refer to the [docs](https://scikit-learn.org/stable/modules/generated/sklearn.pipeline.Pipeline.html) for more information.**"
      ]
    },
    {
      "cell_type": "markdown",
      "metadata": {
        "nbgrader": {
          "grade": false,
          "grade_id": "cell-d28b58a35c94e988",
          "locked": true,
          "schema_version": 2,
          "solution": false
        },
        "id": "W7lawG2C9yQz"
      },
      "source": [
        "#### 2.4. Logistic regression on PCA-preprocessed data.\n",
        "* Find optimal hyperparameters for logistic regression with cross-validation on the transformed by PCA `train` data.\n",
        "\n",
        "* Estimate the model quality with `f1` and `accuracy` scores.\n",
        "* Plot a ROC-curve for the trained model. For the multiclass case you might use `scikitplot` library (e.g. `scikitplot.metrics.plot_roc(test_labels, predicted_proba)`).\n",
        "\n",
        "*Note: please, use the following hyperparameters for logistic regression: `multi_class='multinomial'`, `solver='saga'` and `tol=1e-3`*"
      ]
    },
    {
      "cell_type": "code",
      "execution_count": null,
      "metadata": {
        "nbgrader": {
          "grade": true,
          "grade_id": "cell-12d53ea45258fa82",
          "locked": false,
          "points": 5,
          "schema_version": 2,
          "solution": true
        },
        "id": "E76-DW9q9yQz",
        "colab": {
          "base_uri": "https://localhost:8080/"
        },
        "outputId": "494d381e-2562-45c7-b5bc-175e07f4a661"
      },
      "outputs": [
        {
          "output_type": "stream",
          "name": "stdout",
          "text": [
            "{'Cs': 1000, 'class_weight': 'balanced', 'cv': 10}\n"
          ]
        }
      ],
      "source": [
        "model = LogisticRegressionCV(random_state = 42, multi_class='multinomial', solver='saga', tol=1e-3)\n",
        "\n",
        "param_grid = {\n",
        "    #'penalty': ['l1', 'l2', 'elasticnet'],\n",
        "    'class_weight': ['balanced', None],\n",
        "    'Cs': [100, 1000],\n",
        "    'cv': [9, 10, 11]\n",
        "}\n",
        "\n",
        "gridsearch = GridSearchCV(model, param_grid, refit=True, scoring='accuracy')\n",
        "gridsearch.fit(X_train_pca, y_train)\n",
        "# выведем наилучшие параметры\n",
        "print(gridsearch.best_params_)"
      ]
    },
    {
      "cell_type": "code",
      "source": [
        "y_log_reg = gridsearch.predict(X_test_pca)"
      ],
      "metadata": {
        "id": "pqk234Nf7Avo"
      },
      "execution_count": null,
      "outputs": []
    },
    {
      "cell_type": "code",
      "source": [
        "accuracy = accuracy_score(y_test, y_log_reg)\n",
        "print(\"Logistic Regression accuracy: %.4f\" % accuracy)"
      ],
      "metadata": {
        "colab": {
          "base_uri": "https://localhost:8080/"
        },
        "id": "nEAKBvYm7T76",
        "outputId": "dc09abbc-225f-4585-b0af-157744b68eae"
      },
      "execution_count": null,
      "outputs": [
        {
          "output_type": "stream",
          "name": "stdout",
          "text": [
            "Logistic Regression accuracy: 0.8047\n"
          ]
        }
      ]
    },
    {
      "cell_type": "code",
      "source": [
        "f1 = f1_score(y_test, y_log_reg, average=None)\n",
        "print(\"Logistic Regression accuracy: \", f1)"
      ],
      "metadata": {
        "colab": {
          "base_uri": "https://localhost:8080/"
        },
        "id": "epcvwWMz7U7d",
        "outputId": "91b0ce08-0915-4759-e47e-3782f7f2cd44"
      },
      "execution_count": null,
      "outputs": [
        {
          "output_type": "stream",
          "name": "stdout",
          "text": [
            "Logistic Regression accuracy:  [0.9281768  0.6618705  0.64285714 0.95522388]\n"
          ]
        }
      ]
    },
    {
      "cell_type": "code",
      "source": [
        "label_binarizer = LabelBinarizer().fit(y_train)\n",
        "y_test_bin = label_binarizer.transform(y_test)\n",
        "y_log_reg_bin = label_binarizer.transform(y_log_reg)"
      ],
      "metadata": {
        "id": "yq5yEb367rlF"
      },
      "execution_count": null,
      "outputs": []
    },
    {
      "cell_type": "code",
      "source": [
        "y_log_reg = gridsearch.predict_proba(X_test_pca)"
      ],
      "metadata": {
        "id": "PKlt_x9Z71im"
      },
      "execution_count": null,
      "outputs": []
    },
    {
      "cell_type": "code",
      "source": [
        "fig, ax = plt.subplots(figsize=(6, 6))\n",
        "for i in labels:\n",
        "  class_of_interest = i\n",
        "  class_id = np.flatnonzero(label_binarizer.classes_ == class_of_interest)[0]\n",
        "  RocCurveDisplay.from_predictions(\n",
        "      y_test_bin[:, class_id],\n",
        "      y_log_reg[:, class_id],\n",
        "      name=f\"ROC curve for {labels[class_id]}\",\n",
        "      color=colors[i],\n",
        "      ax=ax,\n",
        "      plot_chance_level=(),\n",
        "  )\n",
        "\n",
        "_ = ax.set(\n",
        "    xlabel=\"False Positive Rate\",\n",
        "    ylabel=\"True Positive Rate\",\n",
        "    title=\"One-vs-Rest ROC curves:\\n multiclass\",\n",
        ")"
      ],
      "metadata": {
        "colab": {
          "base_uri": "https://localhost:8080/",
          "height": 585
        },
        "id": "HUz5xj9v786H",
        "outputId": "82bdc618-d749-4094-b145-e9272d8cad3f"
      },
      "execution_count": null,
      "outputs": [
        {
          "output_type": "display_data",
          "data": {
            "text/plain": [
              "<Figure size 600x600 with 1 Axes>"
            ],
            "image/png": "[encoded data removed]"
          },
          "metadata": {}
        }
      ]
    },
    {
      "cell_type": "markdown",
      "metadata": {
        "nbgrader": {
          "grade": false,
          "grade_id": "cell-99191c0852538d4d",
          "locked": true,
          "schema_version": 2,
          "solution": false
        },
        "id": "pMlpempN9yQz"
      },
      "source": [
        "#### 2.8. Learning curve\n",
        "Your goal is to estimate, how does the model behaviour change with the increase of the `train` dataset size.\n",
        "\n",
        "* Split the training data into 10 equal (almost) parts. Then train the models from above (Logistic regression, Desicion Tree, Random Forest) with optimal hyperparameters you have selected on 1 part, 2 parts (combined, so the train size in increased by 2 times), 3 parts and so on.\n",
        "\n",
        "* Build a plot of `accuracy` and `f1` scores on `test` part, varying the `train` dataset size (so the axes will be score - dataset size.\n",
        "\n",
        "* Analyse the final plot. Can you make any conlusions using it?\n",
        "\n",
        "Tip: there's a function in sklern to do that"
      ]
    },
    {
      "cell_type": "code",
      "source": [
        "accuracy = []\n",
        "f1 = []"
      ],
      "metadata": {
        "id": "bdGyqascl1cT"
      },
      "execution_count": null,
      "outputs": []
    },
    {
      "cell_type": "code",
      "execution_count": null,
      "metadata": {
        "id": "dFBDOB529yQ0"
      },
      "outputs": [],
      "source": [
        "one_size = 55\n",
        "for i in range(1,10):\n",
        "  n = i*one_size\n",
        "  X_fold = X_train[:n]\n",
        "  y_fold = y_train[:n]\n",
        "  log_reg = LogisticRegressionCV(random_state = 42, multi_class='multinomial', solver='saga', tol=1e-3, max_iter=500, class_weight='balanced', Cs=1000, cv=10)\n",
        "  log_reg.fit(X_fold, y_fold)\n",
        "  y_log_reg_fold = log_reg.predict(X_test)\n",
        "  accuracy.append(accuracy_score(y_test, y_log_reg_fold))\n",
        "  f1.append(f1_score(y_test, y_log_reg_fold, average=None))"
      ]
    },
    {
      "cell_type": "code",
      "source": [
        "plt.figure(figsize=(10, 6))\n",
        "plt.plot(range(55, 500, 55),\n",
        "         accuracy,\n",
        "         marker='o',\n",
        "        )\n",
        "plt.title('Accuracy')\n",
        "plt.xlabel('train dataset size')\n",
        "plt.ylabel('Accuracy')\n",
        "\n",
        "plt.xticks(range(55, 500, 55))\n",
        "plt.grid(True)\n",
        "plt.show()"
      ],
      "metadata": {
        "colab": {
          "base_uri": "https://localhost:8080/",
          "height": 564
        },
        "id": "7-Wt8fH7pFYr",
        "outputId": "86cd68b9-a935-44fa-9f4d-2b87b3759b08"
      },
      "execution_count": null,
      "outputs": [
        {
          "output_type": "display_data",
          "data": {
            "text/plain": [
              "<Figure size 1000x600 with 1 Axes>"
            ],
            "image/png": "[encoded data removed]"
          },
          "metadata": {}
        }
      ]
    },
    {
      "cell_type": "code",
      "source": [
        "plt.figure(figsize=(10, 6))\n",
        "for i in range(4):\n",
        "  plt.plot(range(55, 500, 55), [k[i] for k in f1], marker='o', label=labels[i])\n",
        "plt.title('f1 score evolution')\n",
        "plt.xlabel('train dataset size')\n",
        "plt.ylabel('f1 score')\n",
        "\n",
        "plt.xticks(range(55, 500, 55))\n",
        "plt.grid(True)\n",
        "plt.legend()\n",
        "plt.show()"
      ],
      "metadata": {
        "colab": {
          "base_uri": "https://localhost:8080/",
          "height": 564
        },
        "id": "huedrmfEqT6B",
        "outputId": "8c235719-c3a5-46bd-be71-b231c99a8035"
      },
      "execution_count": null,
      "outputs": [
        {
          "output_type": "display_data",
          "data": {
            "text/plain": [
              "<Figure size 1000x600 with 1 Axes>"
            ],
            "image/png": "[encoded data removed]"
          },
          "metadata": {}
        }
      ]
    },
    {
      "cell_type": "markdown",
      "source": [
        "При увеличении размера train данных мы наблюдаем увеличение точности и f1 score, так как большие train данные позволяют модели получить больше информации и провести более подробный анализ закономерностей. Однако из-за линейности модели логистической регрессии она довольно быстро достигает определенного уровня и держится на нем при увеличении количества данных. Поведение f1 для класса opel не совсем соответствует другим классам, однако это может быть вызвано особенностью данных или способом деления на части. То есть в данном случае я разбиваю данные по строчкам последовательно, при этом класс opel может быть распределен по данным неравномерно, откуда следует некоторая хаотичность."
      ],
      "metadata": {
        "id": "g_8dv4SWJ5Om"
      }
    }
  ],
  "metadata": {
    "celltoolbar": "Create Assignment",
    "kernelspec": {
      "display_name": "Python 3 (ipykernel)",
      "language": "python",
      "name": "python3"
    },
    "language_info": {
      "codemirror_mode": {
        "name": "ipython",
        "version": 3
      },
      "file_extension": ".py",
      "mimetype": "text/x-python",
      "name": "python",
      "nbconvert_exporter": "python",
      "pygments_lexer": "ipython3",
      "version": "3.11.10"
    },
    "toc": {
      "base_numbering": 1,
      "nav_menu": {},
      "number_sections": false,
      "sideBar": true,
      "skip_h1_title": false,
      "title_cell": "Table of Contents",
      "title_sidebar": "Contents",
      "toc_cell": false,
      "toc_position": {},
      "toc_section_display": true,
      "toc_window_display": false
    },
    "colab": {
      "provenance": [],
      "include_colab_link": true
    }
  },
  "nbformat": 4,
  "nbformat_minor": 0
}