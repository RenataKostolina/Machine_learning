{
  "cells": [
    {
      "cell_type": "markdown",
      "metadata": {
        "id": "view-in-github",
        "colab_type": "text"
      },
      "source": [
        "<a href=\"https://colab.research.google.com/github/RenataKostolina/Machine_learning/blob/main/salary_prediction.ipynb\" target=\"_parent\"><img src=\"https://colab.research.google.com/assets/colab-badge.svg\" alt=\"Open In Colab\"/></a>"
      ]
    },
    {
      "cell_type": "markdown",
      "metadata": {
        "id": "_8fEfKet_A88"
      },
      "source": [
        "### Описание ДЗ"
      ]
    },
    {
      "cell_type": "markdown",
      "metadata": {
        "id": "U7G3aclD_A89"
      },
      "source": [
        "Это ДЗ по классическому ML.\n",
        "\n",
        "Цель — предсказать по предоставленным данным зарплату человека*.\n",
        "\n",
        "Весь датасет находится в том же архиве, что и этот ноутбук, в папке \"data_hw1\". Альтернативно данные можно скачать [здесь](https://archive.ics.uci.edu/dataset/20/census+income).\n",
        "\n",
        "*Здесь точная величина зарплаты не дана. Вместо этого ЗП поделена на два класса: '<=50K' и '>50K'. Поэтому нужно решать не задачу регрессии, а задачу бинарной классификации."
      ]
    },
    {
      "cell_type": "markdown",
      "metadata": {
        "id": "YnhKIAG-_A8-"
      },
      "source": [
        "### Базовое описание данных"
      ]
    },
    {
      "cell_type": "markdown",
      "metadata": {
        "id": "y20KxhNG_A8-"
      },
      "source": [
        "В файлах adult.names указана общая информация о наборе данных. Рекомендую с ней ознакомиться.\n",
        "\n",
        "Разделение train/test уже сделано авторами датасета. Соответствующие данные лежат в [adult.data](./data_hw1/adult.data) и [adult.test](./data_hw1/adult.test). Именно с ними вам предстоит работать. Ни в коем случае не смешивайте эти два датасета!"
      ]
    },
    {
      "cell_type": "markdown",
      "metadata": {
        "id": "HxUURwRD_A9D"
      },
      "source": [
        "#  Подготовка"
      ]
    },
    {
      "cell_type": "code",
      "source": [
        "!gdown 1t_juvoRgEu_chZa9eSuyukL-6vrusSbz # test dataset\n",
        "!gdown 1QcZ0ANp1qKf4TEpRNXZabNSVCGCIqNdP # train dataset"
      ],
      "metadata": {
        "id": "wLzv2Vt__2jZ",
        "colab": {
          "base_uri": "https://localhost:8080/"
        },
        "outputId": "c57261b1-e269-44f6-d9b8-e5fef991716f"
      },
      "execution_count": null,
      "outputs": [
        {
          "output_type": "stream",
          "name": "stdout",
          "text": [
            "Downloading...\n",
            "From: https://drive.google.com/uc?id=1t_juvoRgEu_chZa9eSuyukL-6vrusSbz\n",
            "To: /content/adult.test\n",
            "100% 2.00M/2.00M [00:00<00:00, 109MB/s]\n",
            "Downloading...\n",
            "From: https://drive.google.com/uc?id=1QcZ0ANp1qKf4TEpRNXZabNSVCGCIqNdP\n",
            "To: /content/adult.data\n",
            "100% 3.97M/3.97M [00:00<00:00, 76.4MB/s]\n"
          ]
        }
      ]
    },
    {
      "cell_type": "code",
      "source": [
        "import pandas as pd\n",
        "import numpy as np\n",
        "import matplotlib.pyplot as plt\n",
        "import seaborn as sns"
      ],
      "metadata": {
        "id": "6kDYMdUPARy_"
      },
      "execution_count": null,
      "outputs": []
    },
    {
      "cell_type": "code",
      "source": [
        "import warnings\n",
        "warnings.filterwarnings(\"ignore\")"
      ],
      "metadata": {
        "id": "dLbRc8HziPAw"
      },
      "execution_count": null,
      "outputs": []
    },
    {
      "cell_type": "code",
      "source": [
        "data_columns = [\n",
        "    \"age\",\n",
        "    \"workclass\",\n",
        "    \"fnlwgt\",\n",
        "    \"education\",\n",
        "    \"education num\",\n",
        "    \"marital status\",\n",
        "    \"occupation\",\n",
        "    \"relationship\",\n",
        "    \"race\",\n",
        "    \"sex\",\n",
        "    \"capital gain\",\n",
        "    \"capital loss\",\n",
        "    \"hours per week\",\n",
        "    \"country\",\n",
        "    \"salary\"\n",
        "]"
      ],
      "metadata": {
        "id": "yUOQ1Q39BKio"
      },
      "execution_count": null,
      "outputs": []
    },
    {
      "cell_type": "code",
      "source": [
        "\"\"\" country = {\n",
        "    'Cuba': [' Cuba'],\n",
        "    'American Islands': [' Puerto-Rico', ' Jamaica', ' Trinadad&Tobago', ' Haiti'],\n",
        "    'Poor American Islands': [' Dominican-Republic', ' Outlying-US(Guam-USVI-etc)'],\n",
        "    'Canada': [' Canada'],\n",
        "    'United States': [' United-States'],\n",
        "    'North America': [' Honduras', ' Guatemala', ' El-Salvador', ' Nicaragua', ' Mexico'],\n",
        "    'South America': [' Columbia', ' Peru'],\n",
        "    'Europe': [' Germany', ' Italy', ' Poland', ' Portugal', ' France', ' Yugoslavia', ' England', ' Greece', ' Hungary', ' Ireland', ' Holand-Netherlands', ' Scotland'],\n",
        "    'Asia': [' China', ' India', ' Japan', ' Laos', ' Philippines', ' Taiwan', ' Thailand', ' Vietnam', ' Cambodia', ' Hong', ' Iran', ' South'],\n",
        "    'Not Defined Country': [' ?']\n",
        "}\"\"\""
      ],
      "metadata": {
        "id": "MvJNoskcEBmS",
        "colab": {
          "base_uri": "https://localhost:8080/",
          "height": 87
        },
        "outputId": "8fa775cc-f870-4ae9-a914-287df1079b65"
      },
      "execution_count": null,
      "outputs": [
        {
          "output_type": "execute_result",
          "data": {
            "text/plain": [
              "\" country = {\\n    'Cuba': [' Cuba'],\\n    'American Islands': [' Puerto-Rico', ' Jamaica', ' Trinadad&Tobago', ' Haiti'],\\n    'Poor American Islands': [' Dominican-Republic', ' Outlying-US(Guam-USVI-etc)'],\\n    'Canada': [' Canada'],\\n    'United States': [' United-States'],\\n    'North America': [' Honduras', ' Guatemala', ' El-Salvador', ' Nicaragua', ' Mexico'],\\n    'South America': [' Columbia', ' Peru'],\\n    'Europe': [' Germany', ' Italy', ' Poland', ' Portugal', ' France', ' Yugoslavia', ' England', ' Greece', ' Hungary', ' Ireland', ' Holand-Netherlands', ' Scotland'],\\n    'Asia': [' China', ' India', ' Japan', ' Laos', ' Philippines', ' Taiwan', ' Thailand', ' Vietnam', ' Cambodia', ' Hong', ' Iran', ' South'],\\n    'Not Defined Country': [' ?']\\n}\""
            ],
            "application/vnd.google.colaboratory.intrinsic+json": {
              "type": "string"
            }
          },
          "metadata": {},
          "execution_count": 111
        }
      ]
    },
    {
      "cell_type": "code",
      "source": [
        "country_rate = {\n",
        "    'first': [' Dominican-Republic', ' Columbia', ' Guatemala', ' Mexico', ' Nicaragua', ' Outlying-US(Guam-USVI-etc)', ' Holand-Netherlands'],\n",
        "    'second': [' Peru', ' Vietnam', ' Honduras', ' El-Salvador', ' Haiti'],\n",
        "    'third': [' Trinadad&Tobago', ' Puerto-Rico', ' Portugal', ' Laos', ' Jamaica', ' Ecuador'],\n",
        "    'fourth': [' Thailand', ' South', ' Poland', ' Ireland'],\n",
        "    'fifth': [' Hungary', ' United-States', ' Scotland', ' ?'],\n",
        "    'sixth': [' Cuba', ' China', ' Greece', ' Hong', ' Philippines'],\n",
        "    'seventh': [' Germany', ' Canada', ' England', ' Italy'],\n",
        "    'eighth': [' Cambodia', ' Yugoslavia', ' Japan', ' Taiwan'],\n",
        "    'ninth': [' India', ' France', ' Iran']\n",
        "}"
      ],
      "metadata": {
        "id": "TtemOlTbOpiI"
      },
      "execution_count": null,
      "outputs": []
    },
    {
      "cell_type": "code",
      "source": [
        "education = {\n",
        "    'School': [' 1st-4th', ' 5th-6th', ' 7th-8th', ' 9th', ' 10th', ' 11th', ' 12th'],\n",
        "    'HS_grad': [' HS-grad'],\n",
        "    'College': [' Some-college'],\n",
        "    'Bachelors': [' Bachelors'],\n",
        "    'Masters': [' Masters'],\n",
        "    'Assoc_voc': [' Assoc-voc'],\n",
        "    'Assoc_acdm': [' Assoc-acdm'],\n",
        "    'Prof_school': [' Prof-school'],\n",
        "    'Doctorate': [' Doctorate'],\n",
        "    'Preschool': [' Preschool']\n",
        "}"
      ],
      "metadata": {
        "id": "VhABaOIvNbJd"
      },
      "execution_count": null,
      "outputs": []
    },
    {
      "cell_type": "code",
      "source": [
        "workclass = {\n",
        "    'Private': [' Private'],\n",
        "    'Self Employed': [' Self-emp-not-inc', ' Self-emp-inc'],\n",
        "    'Government': [' Federal-gov', ' Local-gov', ' State-gov'],\n",
        "    'Free': [' Without-pay'],\n",
        "    'Workless': [' Never-worked'],\n",
        "    'Not Defined Work': [' ?']\n",
        "}"
      ],
      "metadata": {
        "id": "-GkaaueRSOKQ"
      },
      "execution_count": null,
      "outputs": []
    },
    {
      "cell_type": "markdown",
      "source": [
        "# data"
      ],
      "metadata": {
        "id": "56cHwp6dAfuE"
      }
    },
    {
      "cell_type": "code",
      "source": [
        "data = pd.read_csv(\"/content/adult.data\", names=data_columns)"
      ],
      "metadata": {
        "id": "qp9QBIXiA5Wx"
      },
      "execution_count": null,
      "outputs": []
    },
    {
      "cell_type": "code",
      "source": [
        "data.drop(columns=['fnlwgt', 'education num', 'marital status'], inplace=True)"
      ],
      "metadata": {
        "id": "b-T1OM_ADaXA"
      },
      "execution_count": null,
      "outputs": []
    },
    {
      "cell_type": "code",
      "source": [
        "for key in country_rate.keys():\n",
        "  data['country'] = data['country'].replace(country_rate[key], key)"
      ],
      "metadata": {
        "id": "da5aVRN0F0wn"
      },
      "execution_count": null,
      "outputs": []
    },
    {
      "cell_type": "code",
      "source": [
        "for key in education.keys():\n",
        "  data['education'] = data['education'].replace(education[key], key)"
      ],
      "metadata": {
        "id": "SoUNuv4NOtpe"
      },
      "execution_count": null,
      "outputs": []
    },
    {
      "cell_type": "code",
      "source": [
        "data.loc[data['sex'] == ' Male', 'sex'] = 0\n",
        "data.loc[data['sex'] == ' Female', 'sex'] = 1"
      ],
      "metadata": {
        "id": "DsBCSXSdPfB-"
      },
      "execution_count": null,
      "outputs": []
    },
    {
      "cell_type": "code",
      "source": [
        "data.loc[data['relationship'] == ' Husband', 'relationship'] = 'Married'\n",
        "data.loc[data['relationship'] == ' Wife', 'relationship'] = 'Married'\n",
        "data.loc[data['relationship'] == ' Not-in-family', 'relationship'] = 'Unmarried'\n",
        "data.loc[data['relationship'] == ' Unmarried', 'relationship'] = 'Unmarried'\n",
        "data.loc[data['relationship'] == ' Own-child', 'relationship'] = 'Child'"
      ],
      "metadata": {
        "id": "ndFEsqnZP6Za"
      },
      "execution_count": null,
      "outputs": []
    },
    {
      "cell_type": "code",
      "source": [
        "for key in workclass.keys():\n",
        "  data['workclass'] = data['workclass'].replace(workclass[key], key)"
      ],
      "metadata": {
        "id": "fTkve3qXS65K"
      },
      "execution_count": null,
      "outputs": []
    },
    {
      "cell_type": "code",
      "source": [
        "data.loc[data['age'] <= 12, 'mature'] = 'Child'\n",
        "data.loc[(12 < data['age'])&(data['age'] <= 18), 'mature'] = 'Teenager'\n",
        "data.loc[(18 < data['age'])&(data['age'] <= 24), 'mature'] = 'Young Adult'\n",
        "data.loc[(24 < data['age'])&(data['age'] <= 40), 'mature'] = 'Adult'\n",
        "data.loc[(40 < data['age'])&(data['age'] <= 55), 'mature'] = 'Middle'\n",
        "data.loc[(55 < data['age'])&(data['age'] <= 65), 'mature'] = 'Senior'\n",
        "data.loc[65 < data['age'], 'mature'] = 'Elderly'"
      ],
      "metadata": {
        "id": "yyH2i40NVdj4"
      },
      "execution_count": null,
      "outputs": []
    },
    {
      "cell_type": "code",
      "source": [
        "data.drop(columns=['age'], inplace=True)"
      ],
      "metadata": {
        "id": "_uh111irYrPi"
      },
      "execution_count": null,
      "outputs": []
    },
    {
      "cell_type": "code",
      "source": [
        "data.loc[data['salary'] == ' <=50K', 'salary'] = 0\n",
        "data.loc[data['salary'] == ' >50K', 'salary'] = 1"
      ],
      "metadata": {
        "id": "uMLL_oBtZjVC"
      },
      "execution_count": null,
      "outputs": []
    },
    {
      "cell_type": "code",
      "source": [
        "data.loc[data['occupation'] == ' ?', 'occupation'] = 'Not-defined'"
      ],
      "metadata": {
        "id": "F4e_3NUUab5m"
      },
      "execution_count": null,
      "outputs": []
    },
    {
      "cell_type": "markdown",
      "source": [
        "# test"
      ],
      "metadata": {
        "id": "ENYnJ1RjAmNq"
      }
    },
    {
      "cell_type": "code",
      "source": [
        "test = pd.read_csv(\"/content/adult.test\", names=data_columns, skiprows=1)"
      ],
      "metadata": {
        "id": "bCnX3sMmBeMA"
      },
      "execution_count": null,
      "outputs": []
    },
    {
      "cell_type": "code",
      "source": [
        "test.drop(columns=['fnlwgt', 'education num', 'marital status'], inplace=True)"
      ],
      "metadata": {
        "id": "b9olYC4ZDbFy"
      },
      "execution_count": null,
      "outputs": []
    },
    {
      "cell_type": "code",
      "source": [
        "for key in country_rate.keys():\n",
        "  test['country'] = test['country'].replace(country_rate[key], key)"
      ],
      "metadata": {
        "id": "R4Cjl59Yswui"
      },
      "execution_count": null,
      "outputs": []
    },
    {
      "cell_type": "code",
      "source": [
        "for key in education.keys():\n",
        "  test['education'] = test['education'].replace(education[key], key)"
      ],
      "metadata": {
        "id": "zh7NsAhes57A"
      },
      "execution_count": null,
      "outputs": []
    },
    {
      "cell_type": "code",
      "source": [
        "test.loc[test['sex'] == ' Male', 'sex'] = 0\n",
        "test.loc[test['sex'] == ' Female', 'sex'] = 1"
      ],
      "metadata": {
        "id": "PiC5iarCtA6z"
      },
      "execution_count": null,
      "outputs": []
    },
    {
      "cell_type": "code",
      "source": [
        "test.loc[test['relationship'] == ' Husband', 'relationship'] = 'Married'\n",
        "test.loc[test['relationship'] == ' Wife', 'relationship'] = 'Married'\n",
        "test.loc[test['relationship'] == ' Not-in-family', 'relationship'] = 'Unmarried'\n",
        "test.loc[test['relationship'] == ' Unmarried', 'relationship'] = 'Unmarried'\n",
        "test.loc[test['relationship'] == ' Own-child', 'relationship'] = 'Child'"
      ],
      "metadata": {
        "id": "oLrpLp7EtKJF"
      },
      "execution_count": null,
      "outputs": []
    },
    {
      "cell_type": "code",
      "source": [
        "for key in workclass.keys():\n",
        "  test['workclass'] = test['workclass'].replace(workclass[key], key)"
      ],
      "metadata": {
        "id": "Tga9IztftRfF"
      },
      "execution_count": null,
      "outputs": []
    },
    {
      "cell_type": "code",
      "source": [
        "test.loc[test['age'] <= 12, 'mature'] = 'Child'\n",
        "test.loc[(12 < test['age'])&(test['age'] <= 18), 'mature'] = 'Teenager'\n",
        "test.loc[(18 < test['age'])&(test['age'] <= 24), 'mature'] = 'Young Adult'\n",
        "test.loc[(24 < test['age'])&(test['age'] <= 40), 'mature'] = 'Adult'\n",
        "test.loc[(40 < test['age'])&(test['age'] <= 55), 'mature'] = 'Middle'\n",
        "test.loc[(55 < test['age'])&(test['age'] <= 65), 'mature'] = 'Senior'\n",
        "test.loc[65 < test['age'], 'mature'] = 'Elderly'"
      ],
      "metadata": {
        "id": "w4eJVLsvtXTz"
      },
      "execution_count": null,
      "outputs": []
    },
    {
      "cell_type": "code",
      "source": [
        "test.drop(columns=['age'], inplace=True)"
      ],
      "metadata": {
        "id": "dFrIIiNGtjKP"
      },
      "execution_count": null,
      "outputs": []
    },
    {
      "cell_type": "code",
      "source": [
        "test.loc[test['salary'] == ' <=50K.', 'salary'] = 0\n",
        "test.loc[test['salary'] == ' >50K.', 'salary'] = 1"
      ],
      "metadata": {
        "id": "l57KzjAuttvB"
      },
      "execution_count": null,
      "outputs": []
    },
    {
      "cell_type": "code",
      "source": [
        "test.loc[test['occupation'] == ' ?', 'occupation'] = 'Not-defined'"
      ],
      "metadata": {
        "id": "ADTH5u4ct0Jo"
      },
      "execution_count": null,
      "outputs": []
    },
    {
      "cell_type": "markdown",
      "metadata": {
        "id": "Bs4dtFJO_A9G"
      },
      "source": [
        "### Опциональный EDA"
      ]
    },
    {
      "cell_type": "code",
      "execution_count": null,
      "metadata": {
        "id": "qdT5Q71N_A9G",
        "colab": {
          "base_uri": "https://localhost:8080/",
          "height": 515
        },
        "outputId": "fed48db3-8291-4746-e521-5e3cdb2c3360"
      },
      "outputs": [
        {
          "output_type": "display_data",
          "data": {
            "text/plain": [
              "<Figure size 1000x500 with 1 Axes>"
            ],
            "image/png": "[encoded data removed]"
          },
          "metadata": {}
        }
      ],
      "source": [
        "plt.figure(figsize = (10, 5))\n",
        "\n",
        "data['salary'].hist(density=False, bins=20)\n",
        "plt.ylabel('count')\n",
        "plt.xlabel('salary')\n",
        "\n",
        "plt.suptitle('Distribution of salary')\n",
        "plt.show()"
      ]
    },
    {
      "cell_type": "markdown",
      "source": [
        "Мы видим, что значения распределены не совсем ровно, датасет несбалансирован. Целевая переменная является качественными данными (то есть категориальной переменной)."
      ],
      "metadata": {
        "id": "6tDG5yNXbMWm"
      }
    },
    {
      "cell_type": "code",
      "source": [
        "# Готовим данные для графика\n",
        "data1 = data[data['workclass'] == 'Private']['salary'].value_counts()\n",
        "data2 = data[data['workclass'] == 'Government']['salary'].value_counts()\n",
        "data3 = data[data['workclass'] == 'Self Employed']['salary'].value_counts()\n",
        "data4 = data[data['workclass'] == 'Not Defined Work']['salary'].value_counts()\n",
        "data5 = data[data['workclass'] == 'Free']['salary'].value_counts()\n",
        "data6 = data[data['workclass'] == 'Workless']['salary'].value_counts()\n",
        "\n",
        "# Строим круговую диаграмму\n",
        "fig, (ax1, ax2, ax3, ax4, ax5, ax6) = plt.subplots(1, 6, figsize=(10, 10))\n",
        "\n",
        "ax1.pie(data1.values, labels=data1.index, autopct='%1.1f%%')\n",
        "ax2.pie(data2.values, labels=data2.index, autopct='%1.1f%%')\n",
        "ax3.pie(data3.values, labels=data3.index, autopct='%1.1f%%')\n",
        "ax4.pie(data4.values, labels=data4.index, autopct='%1.1f%%')\n",
        "ax5.pie(data5.values, labels=data5.index, autopct='%1.1f%%')\n",
        "ax6.pie(data6.values, labels=data6.index, autopct='%1.1f%%')\n",
        "\n",
        "ax1.set_title(\"Private\")\n",
        "ax2.set_title(\"Government\")\n",
        "ax3.set_title(\"Self Employed\")\n",
        "ax4.set_title(\"Not Defined Work\")\n",
        "ax5.set_title(\"Free\")\n",
        "ax6.set_title(\"Workless\")\n",
        "\n",
        "plt.legend(['1', '0'])\n",
        "\n",
        "plt.show()"
      ],
      "metadata": {
        "id": "bSVQACowdhaP",
        "colab": {
          "base_uri": "https://localhost:8080/",
          "height": 170
        },
        "outputId": "c70ecb9d-9991-415d-8ab7-1853f9fa2a53"
      },
      "execution_count": null,
      "outputs": [
        {
          "output_type": "display_data",
          "data": {
            "text/plain": [
              "<Figure size 1000x1000 with 6 Axes>"
            ],
            "image/png": "[encoded data removed]"
          },
          "metadata": {}
        }
      ]
    },
    {
      "cell_type": "code",
      "source": [
        "# Готовим данные для графика\n",
        "data1 = data[data['education'] == 'Preschool']['salary'].value_counts()\n",
        "data2 = data[data['education'] == 'Doctorate']['salary'].value_counts()\n",
        "data3 = data[data['education'] == 'Prof_school']['salary'].value_counts()\n",
        "data4 = data[data['education'] == 'Assoc_acdm']['salary'].value_counts()\n",
        "data5 = data[data['education'] == 'Assoc_voc']['salary'].value_counts()\n",
        "data6 = data[data['education'] == 'Masters']['salary'].value_counts()\n",
        "data7 = data[data['education'] == 'School']['salary'].value_counts()\n",
        "data8 = data[data['education'] == 'Bachelors']['salary'].value_counts()\n",
        "data9 = data[data['education'] == 'College']['salary'].value_counts()\n",
        "data10 = data[data['education'] == 'HS_grad']['salary'].value_counts()\n",
        "\n",
        "# Строим круговую диаграмму\n",
        "fig, (ax1, ax7, ax10, ax9, ax8, ax6, ax5, ax4, ax3, ax2) = plt.subplots(nrows=1, ncols=10, figsize=(20, 10))\n",
        "\n",
        "\n",
        "ax1.pie(data1.values, labels=data1.index, autopct='%1.1f%%', colors=[\"r\"])\n",
        "ax2.pie(data2.values, labels=data2.index, autopct='%1.1f%%', colors=[\"b\", \"r\"])\n",
        "ax3.pie(data3.values, labels=data3.index, autopct='%1.1f%%', colors=[\"b\", \"r\"])\n",
        "ax4.pie(data4.values, labels=data4.index, autopct='%1.1f%%', colors=[\"r\", \"b\"])\n",
        "ax5.pie(data5.values, labels=data5.index, autopct='%1.1f%%', colors=[\"r\", \"b\"])\n",
        "ax6.pie(data6.values, labels=data6.index, autopct='%1.1f%%', colors=[\"b\", \"r\"])\n",
        "ax7.pie(data7.values, labels=data7.index, autopct='%1.1f%%', colors=[\"r\", \"b\"])\n",
        "ax8.pie(data8.values, labels=data8.index, autopct='%1.1f%%', colors=[\"r\", \"b\"])\n",
        "ax9.pie(data9.values, labels=data9.index, autopct='%1.1f%%', colors=[\"r\", \"b\"])\n",
        "ax10.pie(data10.values, labels=data10.index, autopct='%1.1f%%', colors=[\"r\", \"b\"])\n",
        "\n",
        "ax1.set_title(\"Preschool\")\n",
        "ax2.set_title(\"Doctorate\")\n",
        "ax3.set_title(\"Prof_school\")\n",
        "ax4.set_title(\"Assoc_acdm\")\n",
        "ax5.set_title(\"Assoc_voc\")\n",
        "ax6.set_title(\"Masters\")\n",
        "ax7.set_title(\"School\")\n",
        "ax8.set_title(\"Bachelors\")\n",
        "ax9.set_title(\"College\")\n",
        "ax10.set_title(\"HS_grad\")\n",
        "\n",
        "plt.legend()\n",
        "\n",
        "plt.show()"
      ],
      "metadata": {
        "id": "NXIU8AHygDz5",
        "colab": {
          "base_uri": "https://localhost:8080/",
          "height": 190
        },
        "outputId": "4d94bead-fd4d-4538-c80b-699c98cc1d9b"
      },
      "execution_count": null,
      "outputs": [
        {
          "output_type": "display_data",
          "data": {
            "text/plain": [
              "<Figure size 2000x1000 with 10 Axes>"
            ],
            "image/png": "[encoded data removed]"
          },
          "metadata": {}
        }
      ]
    },
    {
      "cell_type": "code",
      "source": [
        "plt.figure(figsize=(7, 5))\n",
        "\n",
        "plt.hist(data['relationship'][data['salary'] == 0], alpha=0.5)\n",
        "plt.hist(data['relationship'][data['salary'] == 1], alpha=1)\n",
        "\n",
        "plt.legend()\n",
        "\n",
        "plt.show()"
      ],
      "metadata": {
        "id": "3jt5gN6Giu_u",
        "colab": {
          "base_uri": "https://localhost:8080/",
          "height": 462
        },
        "outputId": "4906c1a1-c483-4654-fbca-fadc79d22f0e"
      },
      "execution_count": null,
      "outputs": [
        {
          "output_type": "stream",
          "name": "stderr",
          "text": [
            "WARNING:matplotlib.legend:No artists with labels found to put in legend.  Note that artists whose label start with an underscore are ignored when legend() is called with no argument.\n"
          ]
        },
        {
          "output_type": "display_data",
          "data": {
            "text/plain": [
              "<Figure size 700x500 with 1 Axes>"
            ],
            "image/png": "[encoded data removed]"
          },
          "metadata": {}
        }
      ]
    },
    {
      "cell_type": "code",
      "source": [
        "plt.figure(figsize=(7, 8))\n",
        "\n",
        "plt.hist(data['mature'][data['salary'] == 0], alpha=0.5)\n",
        "plt.hist(data['mature'][data['salary'] == 1], alpha=1)\n",
        "\n",
        "plt.legend()\n",
        "\n",
        "plt.show()"
      ],
      "metadata": {
        "id": "-GRk_poSjNR5",
        "colab": {
          "base_uri": "https://localhost:8080/",
          "height": 693
        },
        "outputId": "cdfa3149-806f-443b-e19c-bc9a9e2ebaa0"
      },
      "execution_count": null,
      "outputs": [
        {
          "output_type": "stream",
          "name": "stderr",
          "text": [
            "WARNING:matplotlib.legend:No artists with labels found to put in legend.  Note that artists whose label start with an underscore are ignored when legend() is called with no argument.\n"
          ]
        },
        {
          "output_type": "display_data",
          "data": {
            "text/plain": [
              "<Figure size 700x800 with 1 Axes>"
            ],
            "image/png": "[encoded data removed]"
          },
          "metadata": {}
        }
      ]
    },
    {
      "cell_type": "markdown",
      "source": [
        "# OHE"
      ],
      "metadata": {
        "id": "Noj0LXld1VIm"
      }
    },
    {
      "cell_type": "code",
      "source": [
        "categorical_columns = ['workclass', 'education', 'occupation', 'relationship', 'race', 'sex', 'country', 'mature']"
      ],
      "metadata": {
        "id": "giZSI2TQba7a"
      },
      "execution_count": null,
      "outputs": []
    },
    {
      "cell_type": "code",
      "source": [
        "categorical_features = data[categorical_columns]"
      ],
      "metadata": {
        "id": "O0fPEZKpb7St"
      },
      "execution_count": null,
      "outputs": []
    },
    {
      "cell_type": "code",
      "source": [
        "unprocessed_cat_features = categorical_features.select_dtypes(include=[object]).columns.tolist()\n",
        "unprocessed_cat_features"
      ],
      "metadata": {
        "id": "OsvrZiAWb9xU",
        "colab": {
          "base_uri": "https://localhost:8080/"
        },
        "outputId": "11bcdb6a-12ea-4adf-bbd2-cadae5ae3a57"
      },
      "execution_count": null,
      "outputs": [
        {
          "output_type": "execute_result",
          "data": {
            "text/plain": [
              "['workclass',\n",
              " 'education',\n",
              " 'occupation',\n",
              " 'relationship',\n",
              " 'race',\n",
              " 'sex',\n",
              " 'country',\n",
              " 'mature']"
            ]
          },
          "metadata": {},
          "execution_count": 144
        }
      ]
    },
    {
      "cell_type": "code",
      "source": [
        "from sklearn.preprocessing import OneHotEncoder\n",
        "\n",
        "encoder = OneHotEncoder(sparse_output=False)\n",
        "\n",
        "one_hot_encoded = encoder.fit_transform(data[unprocessed_cat_features])\n",
        "one_hot_data = pd.DataFrame(one_hot_encoded, columns=encoder.get_feature_names_out(unprocessed_cat_features), index=data.index)"
      ],
      "metadata": {
        "id": "ufd60M07cLws"
      },
      "execution_count": null,
      "outputs": []
    },
    {
      "cell_type": "code",
      "source": [
        "one_hot_encoded = encoder.fit_transform(test[unprocessed_cat_features])\n",
        "one_hot_test = pd.DataFrame(one_hot_encoded, columns=encoder.get_feature_names_out(unprocessed_cat_features), index=test.index)"
      ],
      "metadata": {
        "id": "yNM2n7cEuZ2z"
      },
      "execution_count": null,
      "outputs": []
    },
    {
      "cell_type": "code",
      "source": [
        "data_encoded = pd.concat([data, one_hot_data], axis=1)\n",
        "data_encoded = data_encoded.drop(unprocessed_cat_features, axis=1)"
      ],
      "metadata": {
        "id": "QEg03hOncPbT"
      },
      "execution_count": null,
      "outputs": []
    },
    {
      "cell_type": "code",
      "source": [
        "test_encoded = pd.concat([test, one_hot_test], axis=1)\n",
        "test_encoded = test_encoded.drop(unprocessed_cat_features, axis=1)"
      ],
      "metadata": {
        "id": "OG_0Q3Ozuhie"
      },
      "execution_count": null,
      "outputs": []
    },
    {
      "cell_type": "code",
      "source": [
        "list_1 = list(data_encoded.columns)\n",
        "list_2 = list(test_encoded.columns)\n",
        "diff = list(set(list_1).difference(list_2))"
      ],
      "metadata": {
        "id": "LMc2ZyGxvh-O"
      },
      "execution_count": null,
      "outputs": []
    },
    {
      "cell_type": "code",
      "source": [
        "for i in diff:\n",
        "  test_encoded[i] = 0"
      ],
      "metadata": {
        "id": "5A3x8ZksvlcM"
      },
      "execution_count": null,
      "outputs": []
    },
    {
      "cell_type": "code",
      "source": [
        "data_encoded = data_encoded.reindex(sorted(data_encoded.columns), axis=1)\n",
        "test_encoded = test_encoded.reindex(sorted(test_encoded.columns), axis=1)"
      ],
      "metadata": {
        "id": "oies4DLL1sE0"
      },
      "execution_count": null,
      "outputs": []
    },
    {
      "cell_type": "code",
      "source": [
        "X = data_encoded.drop(columns=['salary'])\n",
        "y = data_encoded['salary'].astype(int)"
      ],
      "metadata": {
        "id": "Vl-VgfH2kTVw"
      },
      "execution_count": null,
      "outputs": []
    },
    {
      "cell_type": "markdown",
      "source": [
        "# Обучение моделей"
      ],
      "metadata": {
        "id": "l9kBdwfO2-gO"
      }
    },
    {
      "cell_type": "code",
      "source": [
        "X_final_test = test_encoded.drop(columns=['salary'])\n",
        "y_final_test = test_encoded['salary'].astype(int)"
      ],
      "metadata": {
        "id": "d7MaL9SOuutB"
      },
      "execution_count": null,
      "outputs": []
    },
    {
      "cell_type": "code",
      "source": [
        "from sklearn.model_selection import train_test_split"
      ],
      "metadata": {
        "id": "5HtDj8oCkhd6"
      },
      "execution_count": null,
      "outputs": []
    },
    {
      "cell_type": "code",
      "source": [
        "X_train, X_test, y_train, y_test = train_test_split(X, y, test_size=0.2, shuffle=True, random_state=21)"
      ],
      "metadata": {
        "id": "nF8baQEwklNP"
      },
      "execution_count": null,
      "outputs": []
    },
    {
      "cell_type": "code",
      "source": [
        "from sklearn.linear_model import LogisticRegression\n",
        "from sklearn.svm import SVC\n",
        "from sklearn.tree import DecisionTreeClassifier\n",
        "from sklearn.ensemble import RandomForestClassifier\n",
        "from sklearn.ensemble import GradientBoostingClassifier"
      ],
      "metadata": {
        "id": "0btdWhIokucq"
      },
      "execution_count": null,
      "outputs": []
    },
    {
      "cell_type": "code",
      "source": [
        "from sklearn.metrics import roc_auc_score\n",
        "from sklearn.model_selection import cross_validate\n",
        "from sklearn.metrics import make_scorer"
      ],
      "metadata": {
        "id": "NSjqppNMRZ6v"
      },
      "execution_count": null,
      "outputs": []
    },
    {
      "cell_type": "code",
      "source": [
        "from sklearn.model_selection import GridSearchCV"
      ],
      "metadata": {
        "id": "JMp-yDzzisEC"
      },
      "execution_count": null,
      "outputs": []
    },
    {
      "cell_type": "markdown",
      "source": [
        "## LogisticRegression"
      ],
      "metadata": {
        "id": "Jt2eo6qVYWAo"
      }
    },
    {
      "cell_type": "code",
      "source": [
        "\"\"\"model = LogisticRegression(random_state = 42, solver = 'newton-cg', class_weight = 'balanced', C=1)\n",
        "\n",
        "param_grid = {\n",
        "    'penalty': ['l1', 'l2', 'elasticnet'],\n",
        "    #'class_weight': ['balanced', None],\n",
        "    #'solver': ['liblinear', 'newton-cg', 'newton-cholesky', 'sag', 'saga']\n",
        "}\n",
        "\n",
        "gridsearch = GridSearchCV(model, param_grid, refit=True, scoring=make_scorer(roc_auc_score))\n",
        "gridsearch.fit(X_train, y_train)\n",
        "# выведем наилучшие параметры\n",
        "print(gridsearch.best_params_)\"\"\""
      ],
      "metadata": {
        "id": "EymfD-YnicWR",
        "collapsed": true,
        "colab": {
          "base_uri": "https://localhost:8080/",
          "height": 70
        },
        "outputId": "b75ea5c6-f33d-45ee-9863-1be8d6154ef4"
      },
      "execution_count": null,
      "outputs": [
        {
          "output_type": "execute_result",
          "data": {
            "text/plain": [
              "\"model = LogisticRegression(random_state = 42, solver = 'newton-cg', class_weight = 'balanced', C=1)\\n\\nparam_grid = {\\n    'penalty': ['l1', 'l2', 'elasticnet'],\\n    #'class_weight': ['balanced', None],\\n    #'solver': ['liblinear', 'newton-cg', 'newton-cholesky', 'sag', 'saga']\\n}\\n\\ngridsearch = GridSearchCV(model, param_grid, refit=True, scoring=make_scorer(roc_auc_score))\\ngridsearch.fit(X_train, y_train)\\n# выведем наилучшие параметры\\nprint(gridsearch.best_params_)\""
            ],
            "application/vnd.google.colaboratory.intrinsic+json": {
              "type": "string"
            }
          },
          "metadata": {},
          "execution_count": 159
        }
      ]
    },
    {
      "cell_type": "code",
      "source": [
        "logistic_regression = LogisticRegression(random_state = 42, solver = 'newton-cg',class_weight = 'balanced', C=1)\n",
        "logistic_regression.fit(X_train, y_train)\n",
        "y_pred = logistic_regression.predict_proba(X_test)[:,1]"
      ],
      "metadata": {
        "id": "1953Y3bfli3x"
      },
      "execution_count": null,
      "outputs": []
    },
    {
      "cell_type": "code",
      "source": [
        "roc_auc = roc_auc_score(y_test, y_pred)\n",
        "print(\"Logistic Regression ROC-AUC score on validation dataset: %.4f\" % roc_auc)"
      ],
      "metadata": {
        "id": "VzdC_p1MRG9M",
        "colab": {
          "base_uri": "https://localhost:8080/"
        },
        "outputId": "ae8e5698-bcff-4743-9934-3ba1bd7036d2"
      },
      "execution_count": null,
      "outputs": [
        {
          "output_type": "stream",
          "name": "stdout",
          "text": [
            "Logistic Regression ROC-AUC score on validation dataset: 0.9073\n"
          ]
        }
      ]
    },
    {
      "cell_type": "code",
      "source": [
        "scores = cross_validate(LogisticRegression(random_state = 42, solver = 'newton-cg', class_weight = 'balanced', C=1), X, y, cv=10,\n",
        "                        scoring={'ROC-AUC': make_scorer(roc_auc_score)},\n",
        "                        return_train_score=True)"
      ],
      "metadata": {
        "id": "HckbUyqnVh7T"
      },
      "execution_count": null,
      "outputs": []
    },
    {
      "cell_type": "code",
      "source": [
        "print('LogisticRegression ROC-AUC Cross Validation mean = ', scores['test_ROC-AUC'].mean())"
      ],
      "metadata": {
        "id": "TqPB5hh1ZIBr",
        "colab": {
          "base_uri": "https://localhost:8080/"
        },
        "outputId": "7a5a322e-8837-4873-b32d-31c3fcf0d7c7"
      },
      "execution_count": null,
      "outputs": [
        {
          "output_type": "stream",
          "name": "stdout",
          "text": [
            "LogisticRegression ROC-AUC Cross Validation mean =  0.8221115006202838\n"
          ]
        }
      ]
    },
    {
      "cell_type": "code",
      "source": [
        "logistic_regression = LogisticRegression(random_state = 42, solver = 'newton-cg',class_weight = 'balanced', C=1)\n",
        "logistic_regression.fit(X, y)\n",
        "y_log_pred = logistic_regression.predict_proba(X_final_test)[:,1]"
      ],
      "metadata": {
        "id": "FRemI6Zj8lDi"
      },
      "execution_count": null,
      "outputs": []
    },
    {
      "cell_type": "code",
      "source": [
        "roc_auc = roc_auc_score(y_final_test, y_log_pred)\n",
        "print(\"Logistic Regression ROC-AUC score on test dataset: %.4f\" % roc_auc)"
      ],
      "metadata": {
        "id": "ZlDgkU5u4aca",
        "colab": {
          "base_uri": "https://localhost:8080/"
        },
        "outputId": "5aec3af4-939a-4895-c104-e4ded7e6ee52"
      },
      "execution_count": null,
      "outputs": [
        {
          "output_type": "stream",
          "name": "stdout",
          "text": [
            "Logistic Regression ROC-AUC score on test dataset: 0.9049\n"
          ]
        }
      ]
    },
    {
      "cell_type": "markdown",
      "source": [
        "## SVC"
      ],
      "metadata": {
        "id": "e2oKfiEpZYh6"
      }
    },
    {
      "cell_type": "code",
      "source": [
        "svc = SVC()\n",
        "svc.fit(X_train, y_train)\n",
        "y_svc = svc.predict(X_test)"
      ],
      "metadata": {
        "id": "Pihwl1LaSFva"
      },
      "execution_count": null,
      "outputs": []
    },
    {
      "cell_type": "code",
      "source": [
        "roc_auc = roc_auc_score(y_test, y_svc)\n",
        "print(\"SVC ROC-AUC score on validation dataset: %.4f\" % roc_auc)"
      ],
      "metadata": {
        "id": "iRHK7flpSUrG",
        "colab": {
          "base_uri": "https://localhost:8080/"
        },
        "outputId": "ea84a98b-0d43-4461-c74f-653e202bc697"
      },
      "execution_count": null,
      "outputs": [
        {
          "output_type": "stream",
          "name": "stdout",
          "text": [
            "SVC ROC-AUC score on validation dataset: 0.6284\n"
          ]
        }
      ]
    },
    {
      "cell_type": "code",
      "source": [
        "svc = SVC()\n",
        "svc.fit(X, y)\n",
        "y_svc_test = svc.predict(X_final_test)\n",
        "roc_auc = roc_auc_score(y_final_test, y_svc_test)\n",
        "print(\"SVC ROC-AUC score on test dataset: %.4f\" % roc_auc)"
      ],
      "metadata": {
        "id": "6-oM-RmC4tUE",
        "colab": {
          "base_uri": "https://localhost:8080/"
        },
        "outputId": "7fdb3bcc-5f22-46b6-ecac-b28ad1632b52"
      },
      "execution_count": null,
      "outputs": [
        {
          "output_type": "stream",
          "name": "stdout",
          "text": [
            "SVC ROC-AUC score on test dataset: 0.6181\n"
          ]
        }
      ]
    },
    {
      "cell_type": "markdown",
      "source": [
        "## DecisionTreeClassifier"
      ],
      "metadata": {
        "id": "SyuarWajfkoU"
      }
    },
    {
      "cell_type": "code",
      "source": [
        "\"\"\"model = DecisionTreeClassifier(random_state=42, criterion = \"entropy\", max_depth=17, min_samples_split=9, max_leaf_nodes=6, class_weight='balanced')\n",
        "\n",
        "param_grid = {\n",
        "    #'criterion': [\"gini\", \"entropy\", \"log_loss\"],\n",
        "    #'max_depth': [10, 11, 12, 13, 14, 15, 16, 17, 18, 19, 20],\n",
        "    #'min_samples_split': [6, 7, 8, 9, 10],\n",
        "    #'min_samples_leaf': [1, 2, 3, 4, 5],\n",
        "    #'max_leaf_nodes': [4, 5, 6, 7, 8],\n",
        "    'class_weight': ['balanced', None],\n",
        "}\n",
        "\n",
        "gridsearch = GridSearchCV(model, param_grid, refit=True, scoring=make_scorer(roc_auc_score))\n",
        "gridsearch.fit(X_train, y_train)\n",
        "# выведем наилучшие параметры\n",
        "print(gridsearch.best_params_)\"\"\""
      ],
      "metadata": {
        "id": "5ZIpkfzxaSnZ",
        "colab": {
          "base_uri": "https://localhost:8080/",
          "height": 70
        },
        "outputId": "f028a81c-40ba-4e3a-f66b-11eb01693274"
      },
      "execution_count": null,
      "outputs": [
        {
          "output_type": "execute_result",
          "data": {
            "text/plain": [
              "'model = DecisionTreeClassifier(random_state=42, criterion = \"entropy\", max_depth=17, min_samples_split=9, max_leaf_nodes=6, class_weight=\\'balanced\\')\\n\\nparam_grid = {\\n    #\\'criterion\\': [\"gini\", \"entropy\", \"log_loss\"],\\n    #\\'max_depth\\': [10, 11, 12, 13, 14, 15, 16, 17, 18, 19, 20],\\n    #\\'min_samples_split\\': [6, 7, 8, 9, 10],\\n    #\\'min_samples_leaf\\': [1, 2, 3, 4, 5],\\n    #\\'max_leaf_nodes\\': [4, 5, 6, 7, 8],\\n    \\'class_weight\\': [\\'balanced\\', None],\\n}\\n\\ngridsearch = GridSearchCV(model, param_grid, refit=True, scoring=make_scorer(roc_auc_score))\\ngridsearch.fit(X_train, y_train)\\n# выведем наилучшие параметры\\nprint(gridsearch.best_params_)'"
            ],
            "application/vnd.google.colaboratory.intrinsic+json": {
              "type": "string"
            }
          },
          "metadata": {},
          "execution_count": 169
        }
      ]
    },
    {
      "cell_type": "code",
      "source": [
        "tree = DecisionTreeClassifier(random_state=42, criterion = \"entropy\", max_depth=17, min_samples_split=9, max_leaf_nodes=6, class_weight='balanced')\n",
        "tree.fit(X_train, y_train)\n",
        "y_tree = tree.predict_proba(X_test)[:,1]"
      ],
      "metadata": {
        "id": "LewJVh7NfovQ"
      },
      "execution_count": null,
      "outputs": []
    },
    {
      "cell_type": "code",
      "source": [
        "roc_auc = roc_auc_score(y_test, y_tree)\n",
        "print(\"DecisionTreeClassifier ROC-AUC score on validation dataset: %.4f\" % roc_auc)"
      ],
      "metadata": {
        "id": "ruWgGRlUfz0C",
        "colab": {
          "base_uri": "https://localhost:8080/"
        },
        "outputId": "924f5a19-78c4-4d70-bddc-2918d0c2c338"
      },
      "execution_count": null,
      "outputs": [
        {
          "output_type": "stream",
          "name": "stdout",
          "text": [
            "DecisionTreeClassifier ROC-AUC score on validation dataset: 0.8465\n"
          ]
        }
      ]
    },
    {
      "cell_type": "code",
      "source": [
        "scores = cross_validate(DecisionTreeClassifier(random_state=42, criterion = \"entropy\", max_depth=17, min_samples_split=9, max_leaf_nodes=6, class_weight='balanced'), X, y, cv=5,\n",
        "                        scoring={'ROC-AUC': make_scorer(roc_auc_score)})"
      ],
      "metadata": {
        "id": "Oqb5KSLEgGYC"
      },
      "execution_count": null,
      "outputs": []
    },
    {
      "cell_type": "code",
      "source": [
        "print('DecisionTreeClassifier ROC-AUC Cross Validation mean = ', scores['test_ROC-AUC'].mean())"
      ],
      "metadata": {
        "id": "mUMU2v2jgOD5",
        "colab": {
          "base_uri": "https://localhost:8080/"
        },
        "outputId": "318e2c2b-51b0-4fe7-cdb3-c9fdcbb7e0d8"
      },
      "execution_count": null,
      "outputs": [
        {
          "output_type": "stream",
          "name": "stdout",
          "text": [
            "DecisionTreeClassifier ROC-AUC Cross Validation mean =  0.7984640984844438\n"
          ]
        }
      ]
    },
    {
      "cell_type": "code",
      "source": [
        "tree = DecisionTreeClassifier(random_state=42, criterion = \"entropy\", max_depth=17, min_samples_split=9, max_leaf_nodes=6, class_weight='balanced')\n",
        "tree.fit(X, y)\n",
        "y_tree_test = tree.predict_proba(X_final_test)[:,1]\n",
        "roc_auc = roc_auc_score(y_final_test, y_tree_test)\n",
        "print(\"DecisionTreeClassifier ROC-AUC score on test dataset: %.4f\" % roc_auc)"
      ],
      "metadata": {
        "id": "i1Cykk9W6Aq2",
        "colab": {
          "base_uri": "https://localhost:8080/"
        },
        "outputId": "44cb2be9-a8b9-4caa-c9ee-5fffadb0f891"
      },
      "execution_count": null,
      "outputs": [
        {
          "output_type": "stream",
          "name": "stdout",
          "text": [
            "DecisionTreeClassifier ROC-AUC score on test dataset: 0.8424\n"
          ]
        }
      ]
    },
    {
      "cell_type": "markdown",
      "source": [
        "## RandomForestClassifier"
      ],
      "metadata": {
        "id": "n0_6KmXkgY8b"
      }
    },
    {
      "cell_type": "code",
      "source": [
        "\"\"\"model = RandomForestClassifier(random_state=42, class_weight = 'balanced', n_estimators=97, criterion='entropy', max_depth=15, min_samples_split=8, min_samples_leaf=2, max_leaf_nodes=39)\n",
        "\n",
        "param_grid = {\n",
        "    #'criterion': [\"gini\", \"entropy\", \"log_loss\"],\n",
        "    #'max_depth': np.arange(10,20),\n",
        "    #'min_samples_split': [6, 7, 8, 9, 10],\n",
        "    #'min_samples_leaf': [1, 2, 3, 4, 5],\n",
        "    'max_leaf_nodes': np.arange(27, 40),\n",
        "    #'class_weight': ['balanced', None, 'balanced_subsample'],\n",
        "    #'n_estimators': np.arange(90,100)\n",
        "}\n",
        "\n",
        "gridsearch = GridSearchCV(model, param_grid, refit=True, scoring=make_scorer(roc_auc_score))\n",
        "gridsearch.fit(X_train, y_train)\n",
        "# выведем наилучшие параметры\n",
        "print(gridsearch.best_params_)\"\"\""
      ],
      "metadata": {
        "id": "x7IIkatecsLt",
        "colab": {
          "base_uri": "https://localhost:8080/",
          "height": 87
        },
        "outputId": "d077818e-eaa6-4892-fdb2-0c4dae573f86"
      },
      "execution_count": null,
      "outputs": [
        {
          "output_type": "execute_result",
          "data": {
            "text/plain": [
              "'model = RandomForestClassifier(random_state=42, class_weight = \\'balanced\\', n_estimators=97, criterion=\\'entropy\\', max_depth=15, min_samples_split=8, min_samples_leaf=2, max_leaf_nodes=39)\\n\\nparam_grid = {\\n    #\\'criterion\\': [\"gini\", \"entropy\", \"log_loss\"],\\n    #\\'max_depth\\': np.arange(10,20),\\n    #\\'min_samples_split\\': [6, 7, 8, 9, 10],\\n    #\\'min_samples_leaf\\': [1, 2, 3, 4, 5],\\n    \\'max_leaf_nodes\\': np.arange(27, 40),\\n    #\\'class_weight\\': [\\'balanced\\', None, \\'balanced_subsample\\'],\\n    #\\'n_estimators\\': np.arange(90,100)\\n}\\n\\ngridsearch = GridSearchCV(model, param_grid, refit=True, scoring=make_scorer(roc_auc_score))\\ngridsearch.fit(X_train, y_train)\\n# выведем наилучшие параметры\\nprint(gridsearch.best_params_)'"
            ],
            "application/vnd.google.colaboratory.intrinsic+json": {
              "type": "string"
            }
          },
          "metadata": {},
          "execution_count": 175
        }
      ]
    },
    {
      "cell_type": "code",
      "source": [
        "rand_forest = RandomForestClassifier(random_state=42, n_jobs=-1, class_weight = 'balanced', n_estimators=97, criterion='entropy', max_depth=15, min_samples_split=8, min_samples_leaf=2, max_leaf_nodes=39)\n",
        "rand_forest.fit(X_train, y_train)\n",
        "y_rand_forest = rand_forest.predict_proba(X_test)[:,1]"
      ],
      "metadata": {
        "id": "jvem-MoygYQs"
      },
      "execution_count": null,
      "outputs": []
    },
    {
      "cell_type": "code",
      "source": [
        "roc_auc = roc_auc_score(y_test, y_rand_forest)\n",
        "print(\"RandomForestClassifier ROC-AUC score on validation dataset: %.4f\" % roc_auc)"
      ],
      "metadata": {
        "id": "vXcBBVlGgqf7",
        "colab": {
          "base_uri": "https://localhost:8080/"
        },
        "outputId": "e4b3d09d-89ba-454f-a771-7c1afd56d6b8"
      },
      "execution_count": null,
      "outputs": [
        {
          "output_type": "stream",
          "name": "stdout",
          "text": [
            "RandomForestClassifier ROC-AUC score on validation dataset: 0.9082\n"
          ]
        }
      ]
    },
    {
      "cell_type": "code",
      "source": [
        "scores = cross_validate(RandomForestClassifier(random_state=42, class_weight = 'balanced', n_estimators=97, criterion='entropy', max_depth=15, min_samples_split=8, min_samples_leaf=2, max_leaf_nodes=39), X, y, cv=5,\n",
        "                        scoring={'ROC-AUC': make_scorer(roc_auc_score)})"
      ],
      "metadata": {
        "id": "GM0nSyclhC9R"
      },
      "execution_count": null,
      "outputs": []
    },
    {
      "cell_type": "code",
      "source": [
        "print('RandomForestClassifier ROC-AUC Cross Validation mean = ', scores['test_ROC-AUC'].mean())"
      ],
      "metadata": {
        "id": "GNrhjFAhhHaV",
        "colab": {
          "base_uri": "https://localhost:8080/"
        },
        "outputId": "96e32f30-a55e-4f85-bd18-a88f9c767b5b"
      },
      "execution_count": null,
      "outputs": [
        {
          "output_type": "stream",
          "name": "stdout",
          "text": [
            "RandomForestClassifier ROC-AUC Cross Validation mean =  0.8180172621778482\n"
          ]
        }
      ]
    },
    {
      "cell_type": "code",
      "source": [
        "rand_forest = RandomForestClassifier(random_state=42, class_weight = 'balanced', n_estimators=97, criterion='entropy', max_depth=15, min_samples_split=8, min_samples_leaf=2, max_leaf_nodes=39)\n",
        "rand_forest.fit(X, y)\n",
        "y_rand_forest_test = rand_forest.predict_proba(X_final_test)[:,1]\n",
        "roc_auc = roc_auc_score(y_final_test, y_rand_forest_test)\n",
        "print(\"RandomForestClassifier ROC-AUC score on test dataset: %.4f\" % roc_auc)"
      ],
      "metadata": {
        "id": "GMXDc1C46YS3",
        "colab": {
          "base_uri": "https://localhost:8080/"
        },
        "outputId": "16756193-0bcd-42f8-b50e-99dc14c6cb6b"
      },
      "execution_count": null,
      "outputs": [
        {
          "output_type": "stream",
          "name": "stdout",
          "text": [
            "RandomForestClassifier ROC-AUC score on test dataset: 0.9062\n"
          ]
        }
      ]
    }
  ],
  "metadata": {
    "kernelspec": {
      "display_name": "my_course",
      "language": "python",
      "name": "python3"
    },
    "language_info": {
      "codemirror_mode": {
        "name": "ipython",
        "version": 3
      },
      "file_extension": ".py",
      "mimetype": "text/x-python",
      "name": "python",
      "nbconvert_exporter": "python",
      "pygments_lexer": "ipython3",
      "version": "3.12.5"
    },
    "colab": {
      "provenance": [],
      "collapsed_sections": [
        "_8fEfKet_A88",
        "YnhKIAG-_A8-",
        "343K6hxK_A8_",
        "LVj-bG2C_A9A",
        "wgSQTL9d_A9C",
        "l_Uv5lqX_A9C",
        "e2oKfiEpZYh6",
        "SyuarWajfkoU"
      ],
      "include_colab_link": true
    }
  },
  "nbformat": 4,
  "nbformat_minor": 0
}