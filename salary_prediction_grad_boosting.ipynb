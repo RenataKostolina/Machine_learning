{
  "cells": [
    {
      "cell_type": "markdown",
      "metadata": {
        "id": "view-in-github",
        "colab_type": "text"
      },
      "source": [
        "<a href=\"https://colab.research.google.com/github/RenataKostolina/Machine_learning/blob/main/salary_prediction_grad_boosting.ipynb\" target=\"_parent\"><img src=\"https://colab.research.google.com/assets/colab-badge.svg\" alt=\"Open In Colab\"/></a>"
      ]
    },
    {
      "cell_type": "markdown",
      "metadata": {
        "id": "ZIZEg7eM_A8z"
      },
      "source": [
        "# ДЗ 1 (GradientBoostingClassifier)\n"
      ]
    },
    {
      "cell_type": "markdown",
      "metadata": {
        "id": "HxUURwRD_A9D"
      },
      "source": [
        "#  Подготовка"
      ]
    },
    {
      "cell_type": "code",
      "source": [
        "!gdown 1t_juvoRgEu_chZa9eSuyukL-6vrusSbz # test dataset\n",
        "!gdown 1QcZ0ANp1qKf4TEpRNXZabNSVCGCIqNdP # train dataset"
      ],
      "metadata": {
        "colab": {
          "base_uri": "https://localhost:8080/"
        },
        "id": "wLzv2Vt__2jZ",
        "outputId": "bd5b195c-2bfa-4eed-ab27-fb954d0b00a9"
      },
      "execution_count": null,
      "outputs": [
        {
          "output_type": "stream",
          "name": "stdout",
          "text": [
            "Downloading...\n",
            "From: https://drive.google.com/uc?id=1t_juvoRgEu_chZa9eSuyukL-6vrusSbz\n",
            "To: /content/adult.test\n",
            "100% 2.00M/2.00M [00:00<00:00, 36.8MB/s]\n",
            "Downloading...\n",
            "From: https://drive.google.com/uc?id=1QcZ0ANp1qKf4TEpRNXZabNSVCGCIqNdP\n",
            "To: /content/adult.data\n",
            "100% 3.97M/3.97M [00:00<00:00, 62.8MB/s]\n"
          ]
        }
      ]
    },
    {
      "cell_type": "code",
      "source": [
        "import pandas as pd\n",
        "import numpy as np\n",
        "import matplotlib.pyplot as plt\n",
        "import seaborn as sns"
      ],
      "metadata": {
        "id": "6kDYMdUPARy_"
      },
      "execution_count": null,
      "outputs": []
    },
    {
      "cell_type": "code",
      "source": [
        "import warnings\n",
        "warnings.filterwarnings(\"ignore\")"
      ],
      "metadata": {
        "id": "4AEpu6a0o7Sj"
      },
      "execution_count": null,
      "outputs": []
    },
    {
      "cell_type": "code",
      "source": [
        "data_columns = [\n",
        "    \"age\",\n",
        "    \"workclass\",\n",
        "    \"fnlwgt\",\n",
        "    \"education\",\n",
        "    \"education num\",\n",
        "    \"marital status\",\n",
        "    \"occupation\",\n",
        "    \"relationship\",\n",
        "    \"race\",\n",
        "    \"sex\",\n",
        "    \"capital gain\",\n",
        "    \"capital loss\",\n",
        "    \"hours per week\",\n",
        "    \"country\",\n",
        "    \"salary\"\n",
        "]"
      ],
      "metadata": {
        "id": "yUOQ1Q39BKio"
      },
      "execution_count": null,
      "outputs": []
    },
    {
      "cell_type": "code",
      "source": [
        "country = {\n",
        "    3: [' Dominican-Republic', ' Columbia', ' Guatemala', ' Mexico', ' Nicaragua', ' Outlying-US(Guam-USVI-etc)', ' Holand-Netherlands'],\n",
        "    8: [' Peru', ' Vietnam', ' Honduras', ' El-Salvador', ' Haiti'],\n",
        "    12: [' Trinadad&Tobago', ' Puerto-Rico', ' Portugal', ' Laos', ' Jamaica', ' Ecuador'],\n",
        "    20: [' Thailand', ' South', ' Poland', ' Ireland'],\n",
        "    25: [' Hungary', ' United-States', ' Scotland', ' ?'],\n",
        "    28: [' Cuba', ' China', ' Greece', ' Hong', ' Philippines'],\n",
        "    33: [' Germany', ' Canada', ' England', ' Italy'],\n",
        "    38: [' Cambodia', ' Yugoslavia', ' Japan', ' Taiwan'],\n",
        "    41: [' India', ' France', ' Iran']\n",
        "}"
      ],
      "metadata": {
        "id": "TtemOlTbOpiI"
      },
      "execution_count": null,
      "outputs": []
    },
    {
      "cell_type": "code",
      "source": [
        "workclass = {\n",
        "    0: [' Without-pay', ' Never-worked'],\n",
        "    10: [' ?'],\n",
        "    21: [' Private'],\n",
        "    28: [' Self-emp-not-inc', ' State-gov', ' Local-gov'],\n",
        "    38: [' Federal-gov'],\n",
        "    55: [' Self-emp-inc']\n",
        "}"
      ],
      "metadata": {
        "id": "-GkaaueRSOKQ"
      },
      "execution_count": null,
      "outputs": []
    },
    {
      "cell_type": "code",
      "source": [
        "education = {\n",
        "    0: [' Preschool'],\n",
        "    5: [' 1st-4th', ' 5th-6th', ' 7th-8th', ' 9th', ' 10th', ' 11th', ' 12th'],\n",
        "    15: [' HS-grad'],\n",
        "    19: [' Some-college'],\n",
        "    25: [' Assoc-voc', ' Assoc-acdm'],\n",
        "    41: [' Bachelors'],\n",
        "    56: [' Masters'],\n",
        "    74: [' Prof-school', ' Doctorate'],\n",
        "}"
      ],
      "metadata": {
        "id": "VhABaOIvNbJd"
      },
      "execution_count": null,
      "outputs": []
    },
    {
      "cell_type": "code",
      "source": [
        "marital = {\n",
        "    5: [' Never-married', ' Separated'],\n",
        "    8: [' Married-spouse-absent', ' Widowed'],\n",
        "    10: [' Divorced'],\n",
        "    44: [' Married-AF-spouse', ' Married-civ-spouse']\n",
        "}"
      ],
      "metadata": {
        "id": "00NpVzNzFNrY"
      },
      "execution_count": null,
      "outputs": []
    },
    {
      "cell_type": "code",
      "source": [
        "relationship = {\n",
        "    2: [' Own-child', ' Other-relative'],\n",
        "    8: [' Unmarried', ' Not-in-family'],\n",
        "    46: [' Husband', ' Wife']\n",
        "}"
      ],
      "metadata": {
        "id": "cftvZDTZG4xY"
      },
      "execution_count": null,
      "outputs": []
    },
    {
      "cell_type": "code",
      "source": [
        "occupation = {\n",
        "    0: [' Priv-house-serv'],\n",
        "    5: [' Other-service', ' Handlers-cleaners'],\n",
        "    12: [ ' ?', ' Armed-Forces', ' Farming-fishing', ' Machine-op-inspct', ' Adm-clerical'],\n",
        "    23: [' Transport-moving', ' Craft-repair', ' Sales'],\n",
        "    31: [' Tech-support', ' Protective-serv'],\n",
        "    46: [' Prof-specialty', ' Exec-managerial']\n",
        "}"
      ],
      "metadata": {
        "id": "JhlrsKHoH9Am"
      },
      "execution_count": null,
      "outputs": []
    },
    {
      "cell_type": "markdown",
      "source": [
        "# data"
      ],
      "metadata": {
        "id": "56cHwp6dAfuE"
      }
    },
    {
      "cell_type": "code",
      "source": [
        "data = pd.read_csv(\"/content/adult.data\", names=data_columns)"
      ],
      "metadata": {
        "id": "qp9QBIXiA5Wx"
      },
      "execution_count": null,
      "outputs": []
    },
    {
      "cell_type": "code",
      "source": [
        "data.drop(columns=['fnlwgt', 'education num'], inplace=True)"
      ],
      "metadata": {
        "id": "b-T1OM_ADaXA"
      },
      "execution_count": null,
      "outputs": []
    },
    {
      "cell_type": "code",
      "source": [
        "for key in country.keys():\n",
        "  data['country'] = data['country'].replace(country[key], key)"
      ],
      "metadata": {
        "id": "da5aVRN0F0wn"
      },
      "execution_count": null,
      "outputs": []
    },
    {
      "cell_type": "code",
      "source": [
        "for key in workclass.keys():\n",
        "  data['workclass'] = data['workclass'].replace(workclass[key], key)"
      ],
      "metadata": {
        "id": "fTkve3qXS65K"
      },
      "execution_count": null,
      "outputs": []
    },
    {
      "cell_type": "code",
      "source": [
        "for key in education.keys():\n",
        "  data['education'] = data['education'].replace(education[key], key)"
      ],
      "metadata": {
        "id": "SoUNuv4NOtpe"
      },
      "execution_count": null,
      "outputs": []
    },
    {
      "cell_type": "code",
      "source": [
        "for key in marital.keys():\n",
        "  data['marital status'] = data['marital status'].replace(marital[key], key)"
      ],
      "metadata": {
        "id": "3G0NszGOKC6c"
      },
      "execution_count": null,
      "outputs": []
    },
    {
      "cell_type": "code",
      "source": [
        "for key in relationship.keys():\n",
        "  data['relationship'] = data['relationship'].replace(relationship[key], key)"
      ],
      "metadata": {
        "id": "TtjnJESnKHC-"
      },
      "execution_count": null,
      "outputs": []
    },
    {
      "cell_type": "code",
      "source": [
        "for key in occupation.keys():\n",
        "  data['occupation'] = data['occupation'].replace(occupation[key], key)"
      ],
      "metadata": {
        "id": "Otudz1XdKHc8"
      },
      "execution_count": null,
      "outputs": []
    },
    {
      "cell_type": "code",
      "source": [
        "data.loc[data['sex'] == ' Male', 'sex'] = 1\n",
        "data.loc[data['sex'] == ' Female', 'sex'] = 0"
      ],
      "metadata": {
        "id": "DsBCSXSdPfB-"
      },
      "execution_count": null,
      "outputs": []
    },
    {
      "cell_type": "code",
      "source": [
        "data.loc[data['salary'] == ' <=50K', 'salary'] = 0\n",
        "data.loc[data['salary'] == ' >50K', 'salary'] = 1"
      ],
      "metadata": {
        "id": "uMLL_oBtZjVC"
      },
      "execution_count": null,
      "outputs": []
    },
    {
      "cell_type": "markdown",
      "source": [
        "# test"
      ],
      "metadata": {
        "id": "ENYnJ1RjAmNq"
      }
    },
    {
      "cell_type": "code",
      "source": [
        "test = pd.read_csv(\"/content/adult.test\", names=data_columns, skiprows=1)"
      ],
      "metadata": {
        "id": "bCnX3sMmBeMA"
      },
      "execution_count": null,
      "outputs": []
    },
    {
      "cell_type": "code",
      "source": [
        "test.drop(columns=['fnlwgt', 'education num'], inplace=True)"
      ],
      "metadata": {
        "id": "b9olYC4ZDbFy"
      },
      "execution_count": null,
      "outputs": []
    },
    {
      "cell_type": "code",
      "source": [
        "for key in country.keys():\n",
        "  test['country'] = test['country'].replace(country[key], key)"
      ],
      "metadata": {
        "id": "R4Cjl59Yswui"
      },
      "execution_count": null,
      "outputs": []
    },
    {
      "cell_type": "code",
      "source": [
        "for key in workclass.keys():\n",
        "  test['workclass'] = test['workclass'].replace(workclass[key], key)"
      ],
      "metadata": {
        "id": "Tga9IztftRfF"
      },
      "execution_count": null,
      "outputs": []
    },
    {
      "cell_type": "code",
      "source": [
        "for key in education.keys():\n",
        "  test['education'] = test['education'].replace(education[key], key)"
      ],
      "metadata": {
        "id": "zh7NsAhes57A"
      },
      "execution_count": null,
      "outputs": []
    },
    {
      "cell_type": "code",
      "source": [
        "for key in marital.keys():\n",
        "  test['marital status'] = test['marital status'].replace(marital[key], key)"
      ],
      "metadata": {
        "id": "cz1Dd-eqLiay"
      },
      "execution_count": null,
      "outputs": []
    },
    {
      "cell_type": "code",
      "source": [
        "for key in relationship.keys():\n",
        "  test['relationship'] = test['relationship'].replace(relationship[key], key)"
      ],
      "metadata": {
        "id": "dD_W7RASLq1O"
      },
      "execution_count": null,
      "outputs": []
    },
    {
      "cell_type": "code",
      "source": [
        "for key in occupation.keys():\n",
        "  test['occupation'] = test['occupation'].replace(occupation[key], key)"
      ],
      "metadata": {
        "id": "Pr5vvrEXLt5u"
      },
      "execution_count": null,
      "outputs": []
    },
    {
      "cell_type": "code",
      "source": [
        "test.loc[test['sex'] == ' Male', 'sex'] = 0\n",
        "test.loc[test['sex'] == ' Female', 'sex'] = 1"
      ],
      "metadata": {
        "id": "PiC5iarCtA6z"
      },
      "execution_count": null,
      "outputs": []
    },
    {
      "cell_type": "code",
      "source": [
        "test.loc[test['salary'] == ' <=50K.', 'salary'] = 0\n",
        "test.loc[test['salary'] == ' >50K.', 'salary'] = 1"
      ],
      "metadata": {
        "id": "l57KzjAuttvB"
      },
      "execution_count": null,
      "outputs": []
    },
    {
      "cell_type": "markdown",
      "source": [
        "# OHE"
      ],
      "metadata": {
        "id": "Noj0LXld1VIm"
      }
    },
    {
      "cell_type": "code",
      "source": [
        "data.columns"
      ],
      "metadata": {
        "colab": {
          "base_uri": "https://localhost:8080/"
        },
        "id": "TRYc-45gMDfz",
        "outputId": "97261ff4-b912-4aac-fcff-81657d3c0a78"
      },
      "execution_count": null,
      "outputs": [
        {
          "output_type": "execute_result",
          "data": {
            "text/plain": [
              "Index(['age', 'workclass', 'education', 'marital status', 'occupation',\n",
              "       'relationship', 'race', 'sex', 'capital gain', 'capital loss',\n",
              "       'hours per week', 'country', 'salary'],\n",
              "      dtype='object')"
            ]
          },
          "metadata": {},
          "execution_count": 32
        }
      ]
    },
    {
      "cell_type": "code",
      "source": [
        "categorical_columns = ['race', 'sex']"
      ],
      "metadata": {
        "id": "giZSI2TQba7a"
      },
      "execution_count": null,
      "outputs": []
    },
    {
      "cell_type": "code",
      "source": [
        "categorical_features = data[categorical_columns]"
      ],
      "metadata": {
        "id": "O0fPEZKpb7St"
      },
      "execution_count": null,
      "outputs": []
    },
    {
      "cell_type": "code",
      "source": [
        "unprocessed_cat_features = categorical_features.select_dtypes(include=[object]).columns.tolist()\n",
        "unprocessed_cat_features"
      ],
      "metadata": {
        "colab": {
          "base_uri": "https://localhost:8080/"
        },
        "id": "OsvrZiAWb9xU",
        "outputId": "c141c484-8f1a-437d-9eed-8966a48c94d8"
      },
      "execution_count": null,
      "outputs": [
        {
          "output_type": "execute_result",
          "data": {
            "text/plain": [
              "['race', 'sex']"
            ]
          },
          "metadata": {},
          "execution_count": 35
        }
      ]
    },
    {
      "cell_type": "code",
      "source": [
        "from sklearn.preprocessing import OneHotEncoder\n",
        "\n",
        "encoder = OneHotEncoder(sparse_output=False)\n",
        "\n",
        "one_hot_encoded = encoder.fit_transform(data[unprocessed_cat_features])\n",
        "one_hot_data = pd.DataFrame(one_hot_encoded, columns=encoder.get_feature_names_out(unprocessed_cat_features), index=data.index)"
      ],
      "metadata": {
        "id": "ufd60M07cLws"
      },
      "execution_count": null,
      "outputs": []
    },
    {
      "cell_type": "code",
      "source": [
        "one_hot_encoded = encoder.fit_transform(test[unprocessed_cat_features])\n",
        "one_hot_test = pd.DataFrame(one_hot_encoded, columns=encoder.get_feature_names_out(unprocessed_cat_features), index=test.index)"
      ],
      "metadata": {
        "id": "yNM2n7cEuZ2z"
      },
      "execution_count": null,
      "outputs": []
    },
    {
      "cell_type": "code",
      "source": [
        "data_encoded = pd.concat([data, one_hot_data], axis=1)\n",
        "data_encoded = data_encoded.drop(unprocessed_cat_features, axis=1)"
      ],
      "metadata": {
        "id": "QEg03hOncPbT"
      },
      "execution_count": null,
      "outputs": []
    },
    {
      "cell_type": "code",
      "source": [
        "test_encoded = pd.concat([test, one_hot_test], axis=1)\n",
        "test_encoded = test_encoded.drop(unprocessed_cat_features, axis=1)"
      ],
      "metadata": {
        "id": "OG_0Q3Ozuhie"
      },
      "execution_count": null,
      "outputs": []
    },
    {
      "cell_type": "code",
      "source": [
        "list_1 = list(data_encoded.columns)\n",
        "list_2 = list(test_encoded.columns)\n",
        "diff = list(set(list_1).difference(list_2))"
      ],
      "metadata": {
        "id": "LMc2ZyGxvh-O"
      },
      "execution_count": null,
      "outputs": []
    },
    {
      "cell_type": "code",
      "source": [
        "for i in diff:\n",
        "  test_encoded[i] = 0"
      ],
      "metadata": {
        "id": "5A3x8ZksvlcM"
      },
      "execution_count": null,
      "outputs": []
    },
    {
      "cell_type": "code",
      "source": [
        "data_encoded = data_encoded.reindex(sorted(data_encoded.columns), axis=1)\n",
        "test_encoded = test_encoded.reindex(sorted(test_encoded.columns), axis=1)"
      ],
      "metadata": {
        "id": "oies4DLL1sE0"
      },
      "execution_count": null,
      "outputs": []
    },
    {
      "cell_type": "code",
      "source": [
        "X = data_encoded.drop(columns=['salary'])\n",
        "y = data_encoded['salary'].astype(int)"
      ],
      "metadata": {
        "id": "Vl-VgfH2kTVw"
      },
      "execution_count": null,
      "outputs": []
    },
    {
      "cell_type": "markdown",
      "source": [
        "# Обучение моделей"
      ],
      "metadata": {
        "id": "l9kBdwfO2-gO"
      }
    },
    {
      "cell_type": "code",
      "source": [
        "from sklearn.model_selection import train_test_split"
      ],
      "metadata": {
        "id": "5HtDj8oCkhd6"
      },
      "execution_count": null,
      "outputs": []
    },
    {
      "cell_type": "code",
      "source": [
        "from sklearn.metrics import roc_auc_score, roc_curve, make_scorer\n",
        "from sklearn.model_selection import cross_validate"
      ],
      "metadata": {
        "id": "NSjqppNMRZ6v"
      },
      "execution_count": null,
      "outputs": []
    },
    {
      "cell_type": "code",
      "source": [
        "from sklearn.ensemble import GradientBoostingClassifier"
      ],
      "metadata": {
        "id": "0btdWhIokucq"
      },
      "execution_count": null,
      "outputs": []
    },
    {
      "cell_type": "code",
      "source": [
        "from sklearn.model_selection import GridSearchCV"
      ],
      "metadata": {
        "id": "JMp-yDzzisEC"
      },
      "execution_count": null,
      "outputs": []
    },
    {
      "cell_type": "code",
      "source": [
        "X_final_test = test_encoded.drop(columns=['salary'])\n",
        "y_final_test = test_encoded['salary'].astype(int)"
      ],
      "metadata": {
        "id": "d7MaL9SOuutB"
      },
      "execution_count": null,
      "outputs": []
    },
    {
      "cell_type": "code",
      "source": [
        "X_train, X_test, y_train, y_test = train_test_split(X, y, test_size=0.2, shuffle=True, random_state=21)"
      ],
      "metadata": {
        "id": "nF8baQEwklNP"
      },
      "execution_count": null,
      "outputs": []
    },
    {
      "cell_type": "markdown",
      "source": [
        "## GradientBoostingClassifier"
      ],
      "metadata": {
        "id": "2-a_D7UEhcKc"
      }
    },
    {
      "cell_type": "code",
      "source": [
        "\"\"\"model = GradientBoostingClassifier(random_state=42, n_estimators=113, min_samples_leaf=8, max_depth=6)\n",
        "\n",
        "param_grid = {\n",
        "    #'loss':['log_loss', 'exponential'],\n",
        "    #'learning_rate':np.arange(0,1,0.1),\n",
        "    #'subsample':np.arange(0, 3),\n",
        "    #'criterion': ['friedman_mse', 'squared_error'],\n",
        "    #'max_depth': np.arange(3,8),\n",
        "    #'min_samples_split': np.arange(1, 10),\n",
        "    #'min_samples_leaf':  np.arange(1, 10),\n",
        "    #'n_estimators': np.arange(100, 120)\n",
        "}\n",
        "\n",
        "gridsearch = GridSearchCV(model, param_grid, refit=True, scoring=make_scorer(roc_auc_score))\n",
        "gridsearch.fit(X_train, y_train)\n",
        "# выведем наилучшие параметры\n",
        "print(gridsearch.best_params_)\"\"\""
      ],
      "metadata": {
        "colab": {
          "base_uri": "https://localhost:8080/",
          "height": 70
        },
        "id": "CfNWb6K5hrMA",
        "outputId": "3544e71b-8bd0-432f-a5ce-1c48c06141d3",
        "collapsed": true
      },
      "execution_count": null,
      "outputs": [
        {
          "output_type": "execute_result",
          "data": {
            "text/plain": [
              "\"model = GradientBoostingClassifier(random_state=42, n_estimators=113, min_samples_leaf=8, max_depth=6)\\n\\nparam_grid = {\\n    #'loss':['log_loss', 'exponential'],\\n    #'learning_rate':np.arange(0,1,0.1),\\n    #'subsample':np.arange(0, 3),\\n    #'criterion': ['friedman_mse', 'squared_error'],\\n    #'max_depth': np.arange(3,8),\\n    #'min_samples_split': np.arange(1, 10),\\n    #'min_samples_leaf':  np.arange(1, 10),\\n    #'n_estimators': np.arange(100, 120)\\n}\\n\\ngridsearch = GridSearchCV(model, param_grid, refit=True, scoring=make_scorer(roc_auc_score))\\ngridsearch.fit(X_train, y_train)\\n# выведем наилучшие параметры\\nprint(gridsearch.best_params_)\""
            ],
            "application/vnd.google.colaboratory.intrinsic+json": {
              "type": "string"
            }
          },
          "metadata": {},
          "execution_count": 50
        }
      ]
    },
    {
      "cell_type": "code",
      "source": [
        "grad_boost = GradientBoostingClassifier(random_state=42, loss='exponential', learning_rate=0.7, max_depth=6, n_estimators=145)\n",
        "grad_boost.fit(X_train, y_train)\n",
        "y_grad_boost = grad_boost.predict_proba(X_test)[:, 1]"
      ],
      "metadata": {
        "id": "84c7GtI7hfG6"
      },
      "execution_count": null,
      "outputs": []
    },
    {
      "cell_type": "code",
      "source": [
        "roc_auc = roc_auc_score(y_test, y_grad_boost)\n",
        "print(\"GradientBoostingClassifier ROC-AUC score on validation dataset: %.4f\" % roc_auc)"
      ],
      "metadata": {
        "colab": {
          "base_uri": "https://localhost:8080/"
        },
        "id": "1mCWrkEGhua-",
        "outputId": "7cc85d20-6994-42fa-f1a5-ab6f1ac4c8da"
      },
      "execution_count": null,
      "outputs": [
        {
          "output_type": "stream",
          "name": "stdout",
          "text": [
            "GradientBoostingClassifier ROC-AUC score on validation dataset: 0.9102\n"
          ]
        }
      ]
    },
    {
      "cell_type": "code",
      "source": [
        "grad_boost = GradientBoostingClassifier(random_state=42, loss='exponential', learning_rate=0.7, max_depth=6, n_estimators=145)\n",
        "grad_boost.fit(X, y)\n",
        "y_grad_boost_test = grad_boost.predict_proba(X_final_test)[:, 1]\n",
        "roc_auc = roc_auc_score(y_final_test, y_grad_boost_test)\n",
        "print(\"GradientBoostingClassifier ROC-AUC score on test dataset: %.4f\" % roc_auc)"
      ],
      "metadata": {
        "colab": {
          "base_uri": "https://localhost:8080/"
        },
        "id": "RabHfM5JqL04",
        "outputId": "190f1a41-cc27-4d2e-ff3f-566ed72848dd"
      },
      "execution_count": null,
      "outputs": [
        {
          "output_type": "stream",
          "name": "stdout",
          "text": [
            "GradientBoostingClassifier ROC-AUC score on test dataset: 0.8975\n"
          ]
        }
      ]
    },
    {
      "cell_type": "code",
      "source": [
        "val_auc = roc_auc_score(y_test, y_grad_boost)\n",
        "test_auc = roc_auc_score(y_final_test, y_grad_boost_test)\n",
        "\n",
        "plt.figure(figsize=(10,7))\n",
        "plt.plot(*roc_curve(y_test, y_grad_boost)[:2], label='Validation ROC-AUC={:.4f}'.format(val_auc))\n",
        "plt.plot(*roc_curve(y_final_test, y_grad_boost_test)[:2], label='Test ROC-AUC={:.4f}'.format(test_auc))\n",
        "plt.legend(fontsize='large').get_frame()\n",
        "plt.plot(np.linspace(0,1,200), np.linspace(0,1,200))\n",
        "plt.show()"
      ],
      "metadata": {
        "colab": {
          "base_uri": "https://localhost:8080/",
          "height": 599
        },
        "id": "zDTONpbrrC5J",
        "outputId": "f279138b-c227-401e-dac3-80446fce5b3d"
      },
      "execution_count": null,
      "outputs": [
        {
          "output_type": "display_data",
          "data": {
            "text/plain": [
              "<Figure size 1000x700 with 1 Axes>"
            ],
            "image/png": "[encoded data removed]"
          },
          "metadata": {}
        }
      ]
    }
  ],
  "metadata": {
    "kernelspec": {
      "display_name": "my_course",
      "language": "python",
      "name": "python3"
    },
    "language_info": {
      "codemirror_mode": {
        "name": "ipython",
        "version": 3
      },
      "file_extension": ".py",
      "mimetype": "text/x-python",
      "name": "python",
      "nbconvert_exporter": "python",
      "pygments_lexer": "ipython3",
      "version": "3.12.5"
    },
    "colab": {
      "provenance": [],
      "include_colab_link": true
    }
  },
  "nbformat": 4,
  "nbformat_minor": 0
}